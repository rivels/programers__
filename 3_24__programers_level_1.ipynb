{
 "cells": [
  {
   "cell_type": "markdown",
   "metadata": {},
   "source": [
    "# 비밀지도\n",
    "### 2진수개념과 슬라이싱 // zip for문 활용 // 그리고 bin(a|b)가 가능하다는 점 // rjust의 활용법\n",
    "먼저 2진수로 만드는 bin()함수와 0b로 표기된다는 개념이 있어야 하고  \n",
    "두개의 리스트를 동시에 for문 하나로 돌릴때 zip()을 활용하면 된다.  \n",
    "그리고 스트링 편집 함수인 rjust()를 활용하면 더 쉽게 문제를 해결할 수 있었고  \n",
    "마지막 단계 또한 if문을 안쓰고 replace()함수로 해결할 수 있었다."
   ]
  },
  {
   "cell_type": "code",
   "execution_count": 63,
   "metadata": {},
   "outputs": [],
   "source": [
    "# 프로그래머스 풀이"
   ]
  },
  {
   "cell_type": "code",
   "execution_count": 65,
   "metadata": {},
   "outputs": [],
   "source": [
    "def aolution2(n,arr1,arr2):\n",
    "    answer = []\n",
    "    for i,j in zip(arr1,arr2):\n",
    "        sub = bin(i|j)[2:]\n",
    "        sub = sub.rjust(n,'0')\n",
    "        sub = sub.replace('1','#')\n",
    "        sub = sub.replace('0',' ')\n",
    "        answer.append(sub)\n",
    "    return answer"
   ]
  },
  {
   "cell_type": "code",
   "execution_count": 62,
   "metadata": {},
   "outputs": [],
   "source": [
    "#내 풀이"
   ]
  },
  {
   "cell_type": "code",
   "execution_count": 45,
   "metadata": {},
   "outputs": [],
   "source": [
    "def solution(n, arr1, arr2):\n",
    "    answer, sub = [], ''\n",
    "    for i in range(0,n):\n",
    "        binary_1 = bin(arr1[i]).replace('0b','')\n",
    "        binary_1 = '0'*(n-len(binary_1)) + binary_1\n",
    "        binary_2 = bin(arr2[i]).replace('0b','')\n",
    "        binary_2 = '0'*(n-len(binary_2)) + binary_2\n",
    "        print(binary_1,binary_2)\n",
    "        for j in range(0,len(binary_1)):\n",
    "#             print(binary_1[j],binary_2[j])\n",
    "            if (binary_1[j] == '1') or (binary_2[j] == '1'):\n",
    "                sub += '#'\n",
    "            else:\n",
    "                sub += ' '\n",
    "        answer.append(sub)\n",
    "        sub = ''\n",
    "    return answer"
   ]
  },
  {
   "cell_type": "code",
   "execution_count": 46,
   "metadata": {},
   "outputs": [
    {
     "name": "stdout",
     "output_type": "stream",
     "text": [
      "01001 11110\n",
      "10100 00001\n",
      "11100 10101\n",
      "10010 10001\n",
      "01011 11100\n"
     ]
    },
    {
     "data": {
      "text/plain": [
       "['#####', '# # #', '### #', '#  ##', '#####']"
      ]
     },
     "execution_count": 46,
     "metadata": {},
     "output_type": "execute_result"
    }
   ],
   "source": [
    "solution(5,[9, 20, 28, 18, 11],[30, 1, 21, 17, 28])"
   ]
  },
  {
   "cell_type": "code",
   "execution_count": 48,
   "metadata": {},
   "outputs": [
    {
     "data": {
      "text/plain": [
       "'0b1011'"
      ]
     },
     "execution_count": 48,
     "metadata": {},
     "output_type": "execute_result"
    }
   ],
   "source": [
    "a=9 1001\n",
    "b=101010\n",
    "bin(a|b)"
   ]
  },
  {
   "cell_type": "code",
   "execution_count": 61,
   "metadata": {},
   "outputs": [
    {
     "data": {
      "text/plain": [
       "['#####', '    #', '### #', '#  ##', '#####']"
      ]
     },
     "execution_count": 61,
     "metadata": {},
     "output_type": "execute_result"
    }
   ],
   "source": [
    "solution2(5,[9, 1, 28, 18, 11],[30, 1, 21, 17, 28])"
   ]
  },
  {
   "cell_type": "code",
   "execution_count": 57,
   "metadata": {},
   "outputs": [
    {
     "data": {
      "text/plain": [
       "'aaaaaaaaaaaaaaaaaaaaaaaaaaaaaaaaaaaaaaaaaaaaaaakkk'"
      ]
     },
     "execution_count": 57,
     "metadata": {},
     "output_type": "execute_result"
    }
   ],
   "source": [
    "k = 'kkk'\n",
    "k.rjust(50,'a')"
   ]
  },
  {
   "cell_type": "markdown",
   "metadata": {},
   "source": [
    "# 실패율"
   ]
  },
  {
   "cell_type": "code",
   "execution_count": 216,
   "metadata": {},
   "outputs": [],
   "source": [
    "def solution(N, stages):\n",
    "    answer, cnt, result = [], [], []\n",
    "    for i in range(1,N+1):\n",
    "        stage_stop = stages.count(i)\n",
    "        \n",
    "        for j in stages:\n",
    "            if j >= i:\n",
    "                cnt.append(j)\n",
    "        if len(cnt) != 0:\n",
    "            answer.append(stage_stop/len(cnt))\n",
    "            cnt = []\n",
    "        else:\n",
    "            answer.append(0)\n",
    "            cnt = []\n",
    "    for k in range(0,len(answer)):\n",
    "        result.append(answer.index(max(answer))+1)\n",
    "        answer[answer.index(max(answer))] = -1\n",
    "    return result"
   ]
  },
  {
   "cell_type": "code",
   "execution_count": 217,
   "metadata": {},
   "outputs": [
    {
     "data": {
      "text/plain": [
       "[20, 17, 13, 16, 12, 14, 1, 2, 3, 4, 5, 6, 7, 8, 9, 10, 11, 15, 18, 19, 21]"
      ]
     },
     "execution_count": 217,
     "metadata": {},
     "output_type": "execute_result"
    }
   ],
   "source": [
    "solution(21,[20, 17, 12, 16, 12, 14, 13, 13])"
   ]
  },
  {
   "cell_type": "code",
   "execution_count": null,
   "metadata": {},
   "outputs": [],
   "source": [
    "'''\n",
    "1 : 1/8\n",
    "2 : 3/4\n",
    "'''"
   ]
  },
  {
   "cell_type": "code",
   "execution_count": 80,
   "metadata": {},
   "outputs": [],
   "source": [
    "T = [2, 1, 2, 6, 2, 4, 3, 3]"
   ]
  },
  {
   "cell_type": "code",
   "execution_count": 89,
   "metadata": {},
   "outputs": [],
   "source": [
    "N = 1"
   ]
  },
  {
   "cell_type": "code",
   "execution_count": 92,
   "metadata": {
    "scrolled": true
   },
   "outputs": [
    {
     "name": "stdout",
     "output_type": "stream",
     "text": [
      "1\n"
     ]
    }
   ],
   "source": [
    "T.count(range(1,N+1))\n",
    "# for i in range(1,N+1):\n",
    "#     print(i)"
   ]
  },
  {
   "cell_type": "code",
   "execution_count": 91,
   "metadata": {},
   "outputs": [
    {
     "data": {
      "text/plain": [
       "range"
      ]
     },
     "execution_count": 91,
     "metadata": {},
     "output_type": "execute_result"
    }
   ],
   "source": [
    "type(range(1,N+1))"
   ]
  },
  {
   "cell_type": "code",
   "execution_count": 93,
   "metadata": {},
   "outputs": [],
   "source": [
    "a = range(1,2)"
   ]
  },
  {
   "cell_type": "code",
   "execution_count": 95,
   "metadata": {},
   "outputs": [
    {
     "data": {
      "text/plain": [
       "True"
      ]
     },
     "execution_count": 95,
     "metadata": {},
     "output_type": "execute_result"
    }
   ],
   "source": [
    "1 in a"
   ]
  },
  {
   "cell_type": "code",
   "execution_count": 127,
   "metadata": {},
   "outputs": [],
   "source": [
    "q = {}"
   ]
  },
  {
   "cell_type": "code",
   "execution_count": 167,
   "metadata": {},
   "outputs": [],
   "source": [
    "q[1] = '0.5'\n",
    "q[2] = '0.3'\n",
    "q[3] = '0.2'"
   ]
  },
  {
   "cell_type": "code",
   "execution_count": 174,
   "metadata": {},
   "outputs": [
    {
     "name": "stdout",
     "output_type": "stream",
     "text": [
      "0.5\n"
     ]
    },
    {
     "ename": "AttributeError",
     "evalue": "'dict' object has no attribute 'remove'",
     "output_type": "error",
     "traceback": [
      "\u001b[0;31m---------------------------------------------------------------------------\u001b[0m",
      "\u001b[0;31mAttributeError\u001b[0m                            Traceback (most recent call last)",
      "\u001b[0;32m<ipython-input-174-aca4b3594acb>\u001b[0m in \u001b[0;36m<module>\u001b[0;34m\u001b[0m\n\u001b[1;32m      1\u001b[0m \u001b[0;32mfor\u001b[0m \u001b[0mz\u001b[0m\u001b[0;34m,\u001b[0m\u001b[0mx\u001b[0m \u001b[0;32min\u001b[0m \u001b[0mq\u001b[0m\u001b[0;34m.\u001b[0m\u001b[0mitems\u001b[0m\u001b[0;34m(\u001b[0m\u001b[0;34m)\u001b[0m\u001b[0;34m:\u001b[0m\u001b[0;34m\u001b[0m\u001b[0;34m\u001b[0m\u001b[0m\n\u001b[1;32m      2\u001b[0m     \u001b[0mprint\u001b[0m\u001b[0;34m(\u001b[0m\u001b[0mmax\u001b[0m\u001b[0;34m(\u001b[0m\u001b[0mq\u001b[0m\u001b[0;34m.\u001b[0m\u001b[0mvalues\u001b[0m\u001b[0;34m(\u001b[0m\u001b[0;34m)\u001b[0m\u001b[0;34m)\u001b[0m\u001b[0;34m)\u001b[0m\u001b[0;34m\u001b[0m\u001b[0;34m\u001b[0m\u001b[0m\n\u001b[0;32m----> 3\u001b[0;31m     \u001b[0mq\u001b[0m\u001b[0;34m.\u001b[0m\u001b[0mremove\u001b[0m\u001b[0;34m(\u001b[0m\u001b[0mmax\u001b[0m\u001b[0;34m(\u001b[0m\u001b[0mq\u001b[0m\u001b[0;34m.\u001b[0m\u001b[0mvalues\u001b[0m\u001b[0;34m(\u001b[0m\u001b[0;34m)\u001b[0m\u001b[0;34m)\u001b[0m\u001b[0;34m)\u001b[0m\u001b[0;34m\u001b[0m\u001b[0;34m\u001b[0m\u001b[0m\n\u001b[0m",
      "\u001b[0;31mAttributeError\u001b[0m: 'dict' object has no attribute 'remove'"
     ]
    }
   ],
   "source": [
    "for z,x in q.items():\n",
    "    print(max(q.values()))\n",
    "    q.remove(max(q.values()))"
   ]
  },
  {
   "cell_type": "markdown",
   "metadata": {},
   "source": [
    "# 다트게임"
   ]
  },
  {
   "cell_type": "code",
   "execution_count": 275,
   "metadata": {},
   "outputs": [],
   "source": [
    "def solution(dartResult):\n",
    "    score, pre_score, answer = 0, 0, []\n",
    "    number = ['0','1','2','3','4','5','6','7','8','9']\n",
    "    for i in range(0,len(dartResult)):\n",
    "        if dartResult[i] in number:\n",
    "            answer.append(int(dartResult[i]))\n",
    "\n",
    "        elif dartResult[i] == '0':\n",
    "            score *= 10\n",
    "            \n",
    "        elif dartResult[i] == 'S':\n",
    "            answer.append(dartResult[i])\n",
    "        \n",
    "        elif dartResult[i] == 'D':\n",
    "            answer.append(score**2)\n",
    "            \n",
    "        elif dartResult[i] == 'T':\n",
    "            answer.append(score**3)\n",
    "            \n",
    "        elif dartResult[i] == '*':\n",
    "            answer[i-2] *= 2\n",
    "            try:\n",
    "                answer[i-1] *= 2\n",
    "            except:\n",
    "                pass\n",
    "\n",
    "        elif dartResult[i] == '#':\n",
    "            answer.append(-score)\n",
    "    return answer"
   ]
  },
  {
   "cell_type": "code",
   "execution_count": 296,
   "metadata": {},
   "outputs": [
    {
     "data": {
      "text/plain": [
       "[1, 'S', 4, 0, 3, 0, 0]"
      ]
     },
     "execution_count": 296,
     "metadata": {},
     "output_type": "execute_result"
    }
   ],
   "source": [
    "solution('1S2D*3T')"
   ]
  },
  {
   "cell_type": "code",
   "execution_count": 305,
   "metadata": {},
   "outputs": [],
   "source": [
    "a = \"1S*2D*3T#\""
   ]
  },
  {
   "cell_type": "code",
   "execution_count": 306,
   "metadata": {},
   "outputs": [],
   "source": [
    "import re"
   ]
  },
  {
   "cell_type": "code",
   "execution_count": 307,
   "metadata": {},
   "outputs": [],
   "source": [
    "b = re.findall('\\d+\\w\\*?\\#?',a)\n"
   ]
  },
  {
   "cell_type": "code",
   "execution_count": 308,
   "metadata": {},
   "outputs": [
    {
     "data": {
      "text/plain": [
       "['1S*', '2D*', '3T#']"
      ]
     },
     "execution_count": 308,
     "metadata": {},
     "output_type": "execute_result"
    }
   ],
   "source": [
    "b"
   ]
  },
  {
   "cell_type": "code",
   "execution_count": 445,
   "metadata": {},
   "outputs": [],
   "source": [
    "import re\n",
    "\n",
    "def solution(dartResult):\n",
    "    numbers = ['0','2','3','4','5','6','7','8','9']\n",
    "    answer = 0\n",
    "    cal = []\n",
    "    LIST = re.findall('\\d+\\w\\*?\\#?',dartResult)\n",
    "    print(LIST)\n",
    "    for i in range(0,len(LIST)):\n",
    "        for j in range(0,len(LIST[i])):\n",
    "            if LIST[i][j] in numbers:\n",
    "                if len(cal) == 0:\n",
    "                    cal.append(int(LIST[i][j]))\n",
    "                elif cal[i] == 10:\n",
    "                    pass\n",
    "                \n",
    "            elif LIST[i][j] == '1':\n",
    "                if LIST[i][j+1] == '0':\n",
    "                    cal.append(10)\n",
    "                    \n",
    "                else:\n",
    "                    cal.append(int(LIST[i][j]))\n",
    "                \n",
    "#             elif j == '0':\n",
    "#                 cal[i] = 10\n",
    "\n",
    "            elif LIST[i][j] == 'S':\n",
    "                pass\n",
    "\n",
    "            elif LIST[i][j] == 'D':\n",
    "                cal[i] **= 2\n",
    "            \n",
    "            elif LIST[i][j] == 'T':\n",
    "                cal[i] **= 3\n",
    "                \n",
    "            elif LIST[i][j] == '*':\n",
    "                if i > 0:\n",
    "                    cal[i] *= 2\n",
    "                    cal[i-1] *= 2\n",
    "\n",
    "                elif i == 0:\n",
    "                    cal[i] *= 2\n",
    "                    \n",
    "            elif LIST[i][j] =='#':\n",
    "                cal[i] = -cal[i]\n",
    "            print(LIST[i][j])\n",
    "            print(cal)\n",
    "        print('-------')\n",
    "#     print(cal)\n",
    "    return sum(cal)"
   ]
  },
  {
   "cell_type": "code",
   "execution_count": 446,
   "metadata": {
    "scrolled": true
   },
   "outputs": [
    {
     "name": "stdout",
     "output_type": "stream",
     "text": [
      "['1S', '2D*', '3T']\n",
      "1\n",
      "[1]\n",
      "S\n",
      "[1]\n",
      "-------\n"
     ]
    },
    {
     "ename": "IndexError",
     "evalue": "list index out of range",
     "output_type": "error",
     "traceback": [
      "\u001b[0;31m---------------------------------------------------------------------------\u001b[0m",
      "\u001b[0;31mIndexError\u001b[0m                                Traceback (most recent call last)",
      "\u001b[0;32m<ipython-input-446-01f34e809f74>\u001b[0m in \u001b[0;36m<module>\u001b[0;34m\u001b[0m\n\u001b[0;32m----> 1\u001b[0;31m \u001b[0msolution\u001b[0m\u001b[0;34m(\u001b[0m\u001b[0;34m'1S2D*3T'\u001b[0m\u001b[0;34m)\u001b[0m\u001b[0;34m\u001b[0m\u001b[0;34m\u001b[0m\u001b[0m\n\u001b[0m",
      "\u001b[0;32m<ipython-input-445-b0639daa16e7>\u001b[0m in \u001b[0;36msolution\u001b[0;34m(dartResult)\u001b[0m\n\u001b[1;32m     12\u001b[0m                 \u001b[0;32mif\u001b[0m \u001b[0mlen\u001b[0m\u001b[0;34m(\u001b[0m\u001b[0mcal\u001b[0m\u001b[0;34m)\u001b[0m \u001b[0;34m==\u001b[0m \u001b[0;36m0\u001b[0m\u001b[0;34m:\u001b[0m\u001b[0;34m\u001b[0m\u001b[0;34m\u001b[0m\u001b[0m\n\u001b[1;32m     13\u001b[0m                     \u001b[0mcal\u001b[0m\u001b[0;34m.\u001b[0m\u001b[0mappend\u001b[0m\u001b[0;34m(\u001b[0m\u001b[0mint\u001b[0m\u001b[0;34m(\u001b[0m\u001b[0mLIST\u001b[0m\u001b[0;34m[\u001b[0m\u001b[0mi\u001b[0m\u001b[0;34m]\u001b[0m\u001b[0;34m[\u001b[0m\u001b[0mj\u001b[0m\u001b[0;34m]\u001b[0m\u001b[0;34m)\u001b[0m\u001b[0;34m)\u001b[0m\u001b[0;34m\u001b[0m\u001b[0;34m\u001b[0m\u001b[0m\n\u001b[0;32m---> 14\u001b[0;31m                 \u001b[0;32melif\u001b[0m \u001b[0mcal\u001b[0m\u001b[0;34m[\u001b[0m\u001b[0mi\u001b[0m\u001b[0;34m]\u001b[0m \u001b[0;34m==\u001b[0m \u001b[0;36m10\u001b[0m\u001b[0;34m:\u001b[0m\u001b[0;34m\u001b[0m\u001b[0;34m\u001b[0m\u001b[0m\n\u001b[0m\u001b[1;32m     15\u001b[0m                     \u001b[0;32mpass\u001b[0m\u001b[0;34m\u001b[0m\u001b[0;34m\u001b[0m\u001b[0m\n\u001b[1;32m     16\u001b[0m \u001b[0;34m\u001b[0m\u001b[0m\n",
      "\u001b[0;31mIndexError\u001b[0m: list index out of range"
     ]
    }
   ],
   "source": [
    "solution('1S2D*3T')"
   ]
  },
  {
   "cell_type": "code",
   "execution_count": 450,
   "metadata": {},
   "outputs": [],
   "source": [
    "import re\n",
    "\n",
    "def solution(dartResult):\n",
    "    numbers = ['0','2','3','4','5','6','7','8','9']\n",
    "    answer = 0\n",
    "    cal = []\n",
    "    LIST = re.findall('\\d+\\w\\*?\\#?',dartResult)\n",
    "    print(LIST)\n",
    "    for i in range(0,len(LIST)):\n",
    "        for j in range(0,len(LIST[i])):\n",
    "            if LIST[i][j] in numbers:\n",
    "                if LIST[i][0] in numbers:\n",
    "                    cal.append(int(LIST[i][j]))\n",
    "                elif LIST[i][1] == 0:\n",
    "                    pass\n",
    "                \n",
    "            elif LIST[i][j] == '1':\n",
    "                if LIST[i][j+1] == '0':\n",
    "                    cal.append(10)\n",
    "                    \n",
    "                else:\n",
    "                    cal.append(int(LIST[i][j]))\n",
    "\n",
    "            elif LIST[i][j] == 'S':\n",
    "                pass\n",
    "\n",
    "            elif LIST[i][j] == 'D':\n",
    "                cal[i] **= 2\n",
    "            \n",
    "            elif LIST[i][j] == 'T':\n",
    "                cal[i] **= 3\n",
    "                \n",
    "            elif LIST[i][j] == '*':\n",
    "                if i > 0:\n",
    "                    cal[i] *= 2\n",
    "                    cal[i-1] *= 2\n",
    "\n",
    "                elif i == 0:\n",
    "                    cal[i] *= 2\n",
    "                    \n",
    "            elif LIST[i][j] =='#':\n",
    "                cal[i] = -cal[i]\n",
    "            print(LIST[i][j])\n",
    "            print(cal)\n",
    "        print('-------')\n",
    "#     print(cal)\n",
    "    return sum(cal)"
   ]
  },
  {
   "cell_type": "code",
   "execution_count": 451,
   "metadata": {},
   "outputs": [
    {
     "name": "stdout",
     "output_type": "stream",
     "text": [
      "['1S', '2D*', '3T']\n",
      "1\n",
      "[1]\n",
      "S\n",
      "[1]\n",
      "-------\n",
      "2\n",
      "[1, 2]\n",
      "D\n",
      "[1, 4]\n",
      "*\n",
      "[2, 8]\n",
      "-------\n",
      "3\n",
      "[2, 8, 3]\n",
      "T\n",
      "[2, 8, 27]\n",
      "-------\n"
     ]
    },
    {
     "data": {
      "text/plain": [
       "37"
      ]
     },
     "execution_count": 451,
     "metadata": {},
     "output_type": "execute_result"
    }
   ],
   "source": [
    "solution('1S2D*3T')"
   ]
  },
  {
   "cell_type": "code",
   "execution_count": null,
   "metadata": {},
   "outputs": [],
   "source": [
    "#patch-notes-container > div:nth-child(5) > div > div > div:nth-child(29) > span.attribute-after"
   ]
  }
 ],
 "metadata": {
  "kernelspec": {
   "display_name": "Python 3",
   "language": "python",
   "name": "python3"
  },
  "language_info": {
   "codemirror_mode": {
    "name": "ipython",
    "version": 3
   },
   "file_extension": ".py",
   "mimetype": "text/x-python",
   "name": "python",
   "nbconvert_exporter": "python",
   "pygments_lexer": "ipython3",
   "version": "3.8.5"
  }
 },
 "nbformat": 4,
 "nbformat_minor": 4
}
