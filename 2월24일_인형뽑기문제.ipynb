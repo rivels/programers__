{
 "cells": [
  {
   "cell_type": "code",
   "execution_count": 166,
   "metadata": {},
   "outputs": [],
   "source": [
    "def solution(board, moves):\n",
    "    answer = 0\n",
    "    stack = []\n",
    "    for i in range(1,len(moves)):\n",
    "        stack.append(board[moves[i]-1].pop())\n",
    "        print(i)\n",
    "    while 0 in stack:\n",
    "        stack.remove(0)\n",
    "    for j in range(len(stack)-1):\n",
    "        if stack[j] == stack[j+1]:\n",
    "            answer += 2\n",
    "    return answer"
   ]
  },
  {
   "cell_type": "code",
   "execution_count": 270,
   "metadata": {},
   "outputs": [],
   "source": [
    "def solution(board, moves):\n",
    "    answer = 0\n",
    "    P = 0\n",
    "    stack = []\n",
    "    for i in range(0,len(moves)):\n",
    "        P = board[moves[i]-1].pop() \n",
    "        if P != 0:\n",
    "            print(P)\n",
    "            stack.append(board[moves[i]-1].pop())\n",
    "        print(stack)\n",
    "#     while 0 in stack:\n",
    "#         stack.remove(0)\n",
    "#     print(stack)\n",
    "#     for j in range(0,len(stack)-1):\n",
    "#         if stack[j] == stack[j+1]:\n",
    "#             answer += 2\n",
    "#             stack[j+1] = ''\n",
    "#             print(stack)\n",
    "    return answer"
   ]
  },
  {
   "cell_type": "code",
   "execution_count": 271,
   "metadata": {},
   "outputs": [
    {
     "name": "stdout",
     "output_type": "stream",
     "text": [
      "[]\n",
      "1\n",
      "[3]\n",
      "1\n",
      "[3, 0]\n",
      "1\n",
      "[3, 0, 5]\n",
      "[3, 0, 5]\n",
      "3\n",
      "[3, 0, 5, 0]\n",
      "[3, 0, 5, 0]\n",
      "2\n",
      "[3, 0, 5, 0, 4]\n"
     ]
    },
    {
     "data": {
      "text/plain": [
       "0"
      ]
     },
     "execution_count": 271,
     "metadata": {},
     "output_type": "execute_result"
    }
   ],
   "source": [
    "solution([[0,0,0,0,0],   #1\n",
    "          [0,0,1,0,3],   #2\n",
    "          [0,2,5,0,1],   #3\n",
    "          [4,2,4,4,2],   #4\n",
    "          [3,5,1,3,1]],  #5\n",
    "         [1,5,3,5,1,2,1,4])  #move\n",
    "\n"
   ]
  },
  {
   "cell_type": "code",
   "execution_count": null,
   "metadata": {},
   "outputs": [],
   "source": [
    "[[0,0,0,0,0],\n",
    " [0,0,1,0,3],\n",
    " [0,2,5,0,1],\n",
    " [4,2,4,4,2],\n",
    " [3,5,1,3,1]]\n",
    "\n",
    "[0,1,1,3,0,3,0,2]\n",
    "\n"
   ]
  },
  {
   "cell_type": "code",
   "execution_count": 106,
   "metadata": {},
   "outputs": [
    {
     "ename": "NameError",
     "evalue": "name 'stack' is not defined",
     "output_type": "error",
     "traceback": [
      "\u001b[0;31m---------------------------------------------------------------------------\u001b[0m",
      "\u001b[0;31mNameError\u001b[0m                                 Traceback (most recent call last)",
      "\u001b[0;32m<ipython-input-106-7f504956832e>\u001b[0m in \u001b[0;36m<module>\u001b[0;34m\u001b[0m\n\u001b[0;32m----> 1\u001b[0;31m \u001b[0mstack\u001b[0m\u001b[0;34m\u001b[0m\u001b[0;34m\u001b[0m\u001b[0m\n\u001b[0m",
      "\u001b[0;31mNameError\u001b[0m: name 'stack' is not defined"
     ]
    }
   ],
   "source": [
    "stack"
   ]
  },
  {
   "cell_type": "code",
   "execution_count": 427,
   "metadata": {},
   "outputs": [],
   "source": [
    "def solution(board, moves):\n",
    "    answer = 0\n",
    "    P = 0\n",
    "    stack = []\n",
    "    for i in range(0,len(moves)):\n",
    "        P = board[moves[i]-1].pop()\n",
    "        if P != 0:\n",
    "            stack.append(P)\n",
    "    print(stack)\n",
    "    j = 0\n",
    "    while True:\n",
    "        if len(stack) <= 1:\n",
    "            break\n",
    "        try:\n",
    "            while len(stack) > 1 and stack[j] == stack[j+1]:\n",
    "                stack.remove(stack[j])\n",
    "                stack.remove(stack[j])\n",
    "                answer += 2\n",
    "                print(j)\n",
    "                print(stack)\n",
    "        except:\n",
    "            break\n",
    "        j += 1\n",
    "    return answer"
   ]
  },
  {
   "cell_type": "code",
   "execution_count": 426,
   "metadata": {},
   "outputs": [
    {
     "name": "stdout",
     "output_type": "stream",
     "text": [
      "[1, 1, 3, 3, 2]\n",
      "0\n",
      "[3, 3, 2]\n",
      "0\n",
      "[2]\n"
     ]
    },
    {
     "data": {
      "text/plain": [
       "4"
      ]
     },
     "execution_count": 426,
     "metadata": {},
     "output_type": "execute_result"
    }
   ],
   "source": [
    "solution([[0,0,0,0,0],   #1\n",
    "          [0,0,1,0,3],   #2\n",
    "          [0,2,5,0,1],   #3\n",
    "          [4,2,4,4,2],   #4\n",
    "          [3,5,1,3,1]],  #5\n",
    "         [1,5,3,5,1,2,1,4])  #move\n",
    "\n"
   ]
  },
  {
   "cell_type": "code",
   "execution_count": 434,
   "metadata": {},
   "outputs": [
    {
     "name": "stdout",
     "output_type": "stream",
     "text": [
      "a 2\n"
     ]
    }
   ],
   "source": [
    "stack = [1,2,3,4,5,6,7,8,9,10,10,9]\n",
    "answer = 0\n",
    "j = 0\n",
    "while True:\n",
    "    if len(stack) <= 1:\n",
    "        break\n",
    "    try:\n",
    "        while len(stack) > 1 and stack[j] == stack[j+1]:\n",
    "            stack.remove(stack[j])\n",
    "            stack.remove(stack[j])\n",
    "            answer += 2\n",
    "    except:\n",
    "        break\n",
    "    j += 1\n",
    "print('a',answer)"
   ]
  },
  {
   "cell_type": "code",
   "execution_count": null,
   "metadata": {},
   "outputs": [],
   "source": []
  },
  {
   "cell_type": "code",
   "execution_count": null,
   "metadata": {},
   "outputs": [],
   "source": []
  }
 ],
 "metadata": {
  "kernelspec": {
   "display_name": "Python 3",
   "language": "python",
   "name": "python3"
  },
  "language_info": {
   "codemirror_mode": {
    "name": "ipython",
    "version": 3
   },
   "file_extension": ".py",
   "mimetype": "text/x-python",
   "name": "python",
   "nbconvert_exporter": "python",
   "pygments_lexer": "ipython3",
   "version": "3.8.5"
  }
 },
 "nbformat": 4,
 "nbformat_minor": 4
}
