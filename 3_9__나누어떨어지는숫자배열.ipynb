{
 "cells": [
  {
   "cell_type": "code",
   "execution_count": 6,
   "metadata": {},
   "outputs": [],
   "source": [
    "def solution(arr, divisor):\n",
    "    answer = []\n",
    "    for i in arr:\n",
    "        if i%divisor == 0:\n",
    "            answer.append(i)\n",
    "    '''\n",
    "    list complehension을 활용하면\n",
    "    answer = [i for i in arr if i % divisor == 0]로\n",
    "    쓸 수 있고\n",
    "    이것보다 저 축약해서\n",
    "    answer = [i for i in arr if i % divisor == 0] or [-1]\n",
    "    로도 축약할 수 있다.\n",
    "    or 은 앞의 조건이 참이면 출력하고 거짓이면 뒤의 인자를 출력한다.\n",
    "    '''\n",
    "    if len(answer) == 0:\n",
    "        answer = [-1]\n",
    "    \n",
    "    return sorted(answer,reverse=False)"
   ]
  },
  {
   "cell_type": "code",
   "execution_count": 9,
   "metadata": {},
   "outputs": [
    {
     "data": {
      "text/plain": [
       "[-1]"
      ]
     },
     "execution_count": 9,
     "metadata": {},
     "output_type": "execute_result"
    }
   ],
   "source": [
    "solution([3,2,6]\t,10)"
   ]
  },
  {
   "cell_type": "code",
   "execution_count": 8,
   "metadata": {},
   "outputs": [],
   "source": [
    "def solution(arr, divisor):\n",
    "    return sorted([i for i in arr if i%divisor == 0]) or [-1]"
   ]
  },
  {
   "cell_type": "code",
   "execution_count": null,
   "metadata": {},
   "outputs": [],
   "source": []
  }
 ],
 "metadata": {
  "kernelspec": {
   "display_name": "Python 3",
   "language": "python",
   "name": "python3"
  },
  "language_info": {
   "codemirror_mode": {
    "name": "ipython",
    "version": 3
   },
   "file_extension": ".py",
   "mimetype": "text/x-python",
   "name": "python",
   "nbconvert_exporter": "python",
   "pygments_lexer": "ipython3",
   "version": "3.8.5"
  }
 },
 "nbformat": 4,
 "nbformat_minor": 4
}
