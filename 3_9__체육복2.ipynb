{
 "cells": [
  {
   "cell_type": "code",
   "execution_count": 54,
   "metadata": {},
   "outputs": [],
   "source": [
    "'''\n",
    "학생들 중 체육복을 누가 훔쳐갔고 여분을 가져온 학생들이 존재하는 문제\n",
    "최대효율로 체육복을 입고 수업에 참여할 수 있는 수를 구하는 문제\n",
    "\n",
    "중요한점은 여분의 체육복을 가져오고 체육복을 잃어버린 경우가 존재하는데\n",
    "이때는 다른 학생에게 체육복을 빌려줄 수 없음\n",
    "-> 즉, 여분을 가져온 학생들 중에서 잃어버린애들을 제외하고 시작해야함\n",
    "\n",
    "n = 총 학생 수\n",
    "lost = 체육복을 잃어버린 학생의 번호이자 신체사이즈 값이 들어있는 list\n",
    "reserve = 체육복을 여분으로 가져온 학생들의 번호이자 신체사이즈가 들어있는\n",
    "list\n",
    "\n",
    "\n",
    "#25 : 먼저 총 학생수에서 잃어버린 학생 수를 뺀다\n",
    "#26 : list complehesion으로 여분을 가져왔지만 잃어버린 학생수를 구한다\n",
    "#27 : (1)학생들은 수업에 참여할 수 있으니 다시 n에 더해준다\n",
    "#28-29 : set(집합)연산으로 중복된학생들의 수를 빼서 lost와 reserve를\n",
    "다시 재구성한다\n",
    "#31-38 : 사이즈가 나보다 한 치수 작은 학생들이 있는지 탐색, 그렇지않으면 \n",
    "한 치수 큰 학생이 있는지 다시 탐색\n",
    "\n",
    "'''\n",
    "def solution(n, lost, reserve):\n",
    "    n -= len(lost) \n",
    "    self_reserve = [i for i in reserve if i in lost]\n",
    "    n += len(self_reserve)\n",
    "    lost = list(set(lost) - set(self_reserve))\n",
    "    reserve = list(set(reserve) - set(self_reserve))\n",
    "    \n",
    "    for j in reserve:\n",
    "        if j-1 in lost:\n",
    "            n += 1\n",
    "            lost.remove(j-1)\n",
    "            \n",
    "        elif j+1 in lost:\n",
    "            n += 1\n",
    "            lost.remove(j+1)\n",
    "            \n",
    "    return n"
   ]
  },
  {
   "cell_type": "code",
   "execution_count": 55,
   "metadata": {},
   "outputs": [
    {
     "data": {
      "text/plain": [
       "7"
      ]
     },
     "execution_count": 55,
     "metadata": {},
     "output_type": "execute_result"
    }
   ],
   "source": [
    "solution(8, [1,2,3,4,5], [2,3,4,5,6])"
   ]
  },
  {
   "cell_type": "code",
   "execution_count": null,
   "metadata": {},
   "outputs": [],
   "source": [
    "def solution2(n, lost, reserve):\n",
    "    self_reserve = [r for i in reserve if i in lost]\n",
    "    lost = [j for j in lost if j in reserve]"
   ]
  },
  {
   "cell_type": "code",
   "execution_count": null,
   "metadata": {},
   "outputs": [],
   "source": []
  }
 ],
 "metadata": {
  "kernelspec": {
   "display_name": "Python 3",
   "language": "python",
   "name": "python3"
  },
  "language_info": {
   "codemirror_mode": {
    "name": "ipython",
    "version": 3
   },
   "file_extension": ".py",
   "mimetype": "text/x-python",
   "name": "python",
   "nbconvert_exporter": "python",
   "pygments_lexer": "ipython3",
   "version": "3.8.5"
  }
 },
 "nbformat": 4,
 "nbformat_minor": 4
}
