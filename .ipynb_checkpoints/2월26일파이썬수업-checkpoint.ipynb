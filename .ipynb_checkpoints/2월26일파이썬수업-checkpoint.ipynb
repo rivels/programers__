{
 "cells": [
  {
   "cell_type": "markdown",
   "metadata": {},
   "source": [
    "# lambda function\n",
    "- 설명 : 간단한 return이 있는 함수를 줄여서 사용할 수 있는 함수\n",
    "- 기능 : 함수의 선언을 줄일 수 있다."
   ]
  },
  {
   "cell_type": "code",
   "execution_count": 1,
   "metadata": {},
   "outputs": [],
   "source": [
    "def plus(n1,n2):\n",
    "    return n1+n2"
   ]
  },
  {
   "cell_type": "code",
   "execution_count": 2,
   "metadata": {},
   "outputs": [
    {
     "data": {
      "text/plain": [
       "3"
      ]
     },
     "execution_count": 2,
     "metadata": {},
     "output_type": "execute_result"
    }
   ],
   "source": [
    "plus(1,2)"
   ]
  },
  {
   "cell_type": "code",
   "execution_count": 4,
   "metadata": {},
   "outputs": [],
   "source": [
    "lambda_plus = lambda n1, n2: n1 + n2\n",
    "# 간단한 함수를 위와같이 한줄로 만들어서 사용 가능함."
   ]
  },
  {
   "cell_type": "code",
   "execution_count": 5,
   "metadata": {},
   "outputs": [
    {
     "data": {
      "text/plain": [
       "3"
      ]
     },
     "execution_count": 5,
     "metadata": {},
     "output_type": "execute_result"
    }
   ],
   "source": [
    "lambda_plus(1,2)"
   ]
  },
  {
   "cell_type": "code",
   "execution_count": 6,
   "metadata": {},
   "outputs": [],
   "source": [
    "def calc(func, n1, n2):\n",
    "    return func(n1,n2)"
   ]
  },
  {
   "cell_type": "code",
   "execution_count": 7,
   "metadata": {},
   "outputs": [],
   "source": [
    "def plus(n1,n2):\n",
    "    return n1+n2"
   ]
  },
  {
   "cell_type": "code",
   "execution_count": 8,
   "metadata": {},
   "outputs": [
    {
     "data": {
      "text/plain": [
       "9"
      ]
     },
     "execution_count": 8,
     "metadata": {},
     "output_type": "execute_result"
    }
   ],
   "source": [
    "calc(plus,4,5)"
   ]
  },
  {
   "cell_type": "code",
   "execution_count": 9,
   "metadata": {},
   "outputs": [
    {
     "data": {
      "text/plain": [
       "9"
      ]
     },
     "execution_count": 9,
     "metadata": {},
     "output_type": "execute_result"
    }
   ],
   "source": [
    "calc(lambda n1, n2: n1 + n2,4,5) # 람다는 1회용 함수라고 보면됨, 호출되어질때만 함수를 만들어 사용하는 개념임"
   ]
  },
  {
   "cell_type": "markdown",
   "metadata": {},
   "source": [
    "# Decorator : 데코레이터\n",
    "- 함수의 코드를 바꾸지 않고 기능을 추가할 때 사용\n",
    "- 여러개의 함수에서 중복되는 코드부분을 데코레이터 함수로 만들어서 사용하여 효율적 유지보수가 가능하다.\n"
   ]
  },
  {
   "cell_type": "code",
   "execution_count": null,
   "metadata": {},
   "outputs": [],
   "source": [
    "'''\n",
    "def func_a():\n",
    "    code_1 #중복됨\n",
    "    code_2\n",
    "    code_3 #중복됨\n",
    "def func_b:\n",
    "    code_1 #중복됨\n",
    "    code_4\n",
    "    code_3 #중복된\n",
    "'''    \n",
    "# 데코레이터 사용하면\n",
    "'''\n",
    "def deco(func):\n",
    "    def wrapper(*args, **kwargs):\n",
    "        code_1\n",
    "        func(*args, **kwargs)\n",
    "        code_3\n",
    "        \n",
    "    return wrapper\n",
    "    \n",
    "@deco\n",
    "def func_a():\n",
    "    code_2\n",
    "    \n",
    "@deco\n",
    "def func_b():\n",
    "    code_4\n",
    "'''\n"
   ]
  },
  {
   "cell_type": "code",
   "execution_count": 13,
   "metadata": {},
   "outputs": [],
   "source": [
    "def func_a():\n",
    "    print(\"code 1\")\n",
    "    print(\"code 2\")\n",
    "    print(\"code 3\")"
   ]
  },
  {
   "cell_type": "code",
   "execution_count": 14,
   "metadata": {},
   "outputs": [],
   "source": [
    "def func_b():\n",
    "    print(\"code 1\")\n",
    "    print(\"code 4\")\n",
    "    print(\"code 3\")"
   ]
  },
  {
   "cell_type": "code",
   "execution_count": 31,
   "metadata": {},
   "outputs": [],
   "source": [
    "def deco(func):\n",
    "    def wrapper(*args,**kwargs):\n",
    "        print(\"code 1\")\n",
    "        func(*args, **kwargs)\n",
    "        print(\"code 3\")\n",
    "    return wrapper"
   ]
  },
  {
   "cell_type": "code",
   "execution_count": 32,
   "metadata": {},
   "outputs": [],
   "source": [
    "@deco\n",
    "def func_a():\n",
    "    print(\"code 2\")"
   ]
  },
  {
   "cell_type": "code",
   "execution_count": 33,
   "metadata": {},
   "outputs": [],
   "source": [
    "@deco\n",
    "def func_b():\n",
    "    print(\"code 4\")"
   ]
  },
  {
   "cell_type": "code",
   "execution_count": 34,
   "metadata": {
    "scrolled": true
   },
   "outputs": [
    {
     "name": "stdout",
     "output_type": "stream",
     "text": [
      "code 1\n",
      "code 2\n",
      "code 3\n"
     ]
    }
   ],
   "source": [
    "func_a()"
   ]
  },
  {
   "cell_type": "code",
   "execution_count": 35,
   "metadata": {},
   "outputs": [
    {
     "name": "stdout",
     "output_type": "stream",
     "text": [
      "code 1\n",
      "code 4\n",
      "code 3\n"
     ]
    }
   ],
   "source": [
    "func_b()"
   ]
  },
  {
   "cell_type": "markdown",
   "metadata": {},
   "source": [
    "# Decolator\n",
    "- 얘는 바꾸고자 하는 함수를 선언할 때, 위에 @deco를 쓰고\n",
    "- 별도의 deco함수를 선언하고 그 안에 wrapper() 함수를 선언하고 이 안에 내가 수정하고자 하는 코드를 채워넣는데\n",
    "- "
   ]
  },
  {
   "cell_type": "markdown",
   "metadata": {},
   "source": [
    "# decolator examples"
   ]
  },
  {
   "cell_type": "code",
   "execution_count": 38,
   "metadata": {},
   "outputs": [],
   "source": [
    "# timer decolaotr : 함수의 실행시간을 측정해주는 기능"
   ]
  },
  {
   "cell_type": "code",
   "execution_count": 39,
   "metadata": {},
   "outputs": [],
   "source": [
    "import time"
   ]
  },
  {
   "cell_type": "code",
   "execution_count": 68,
   "metadata": {},
   "outputs": [],
   "source": [
    "def timer(func):                       #데코레이터 이름선언\n",
    "    def wrapper(*args, **kwargs):      #wrapper로 감싸고 argument들을 받는다\n",
    "        start = time.time()            #추가하고자 하는 시간을 측정하는 코드\n",
    "        func(*args, **kwargs)          #덧붙여짐 당하는 함수 실행\n",
    "        end = time.time()              #추가하고자 하는 시간을 측정하는 코드\n",
    "        print('run time : {}'.format(end - start))\n",
    "    return wrapper"
   ]
  },
  {
   "cell_type": "code",
   "execution_count": 69,
   "metadata": {},
   "outputs": [],
   "source": [
    "@timer\n",
    "def func_1(numbers):\n",
    "    return sum(numbers)"
   ]
  },
  {
   "cell_type": "code",
   "execution_count": 70,
   "metadata": {},
   "outputs": [],
   "source": [
    "@timer\n",
    "def func_2(count):\n",
    "    num1, num2 = 0,1\n",
    "    for _ in range(count):\n",
    "        num1, num2 = num2, num1 + num2\n",
    "    return num2"
   ]
  },
  {
   "cell_type": "code",
   "execution_count": 71,
   "metadata": {},
   "outputs": [
    {
     "name": "stdout",
     "output_type": "stream",
     "text": [
      "run time : 0.08797597885131836\n"
     ]
    }
   ],
   "source": [
    "func_1(range(1,10000001,2))"
   ]
  },
  {
   "cell_type": "code",
   "execution_count": 72,
   "metadata": {},
   "outputs": [
    {
     "name": "stdout",
     "output_type": "stream",
     "text": [
      "run time : 7.987022399902344e-05\n"
     ]
    }
   ],
   "source": [
    "func_2(1000)"
   ]
  },
  {
   "cell_type": "code",
   "execution_count": 67,
   "metadata": {},
   "outputs": [],
   "source": [
    "# is_login : 패스워드를 입력받아서 패스워드가 입력되어야 실행되는 데코레이터"
   ]
  },
  {
   "cell_type": "code",
   "execution_count": 73,
   "metadata": {},
   "outputs": [],
   "source": [
    "def is_login(func):                             #데코레이터 이름\n",
    "    passwords = [\"dss\",\"python\"]                #올바른 패스워드 리스트\n",
    "    def wrapper(*args,**kwargs):                #wrapper함수로 감싸준다\n",
    "        password = input('insert password : ')  #password를 받고\n",
    "        if password in passwords:               #조건문으로 판별해서 맞으면\n",
    "            result = func(*args,**kwargs)       #덧붙여질 함수 실행\n",
    "            return result\n",
    "        else:\n",
    "            return \"wrong password!\"\n",
    "    return wrapper"
   ]
  },
  {
   "cell_type": "code",
   "execution_count": 80,
   "metadata": {},
   "outputs": [],
   "source": [
    "@timer\n",
    "@is_login\n",
    "def func_1(numbers):\n",
    "    return sum(numbers)"
   ]
  },
  {
   "cell_type": "code",
   "execution_count": 81,
   "metadata": {},
   "outputs": [],
   "source": [
    "@timer\n",
    "@is_login\n",
    "def func_2(count):\n",
    "    num1, num2 = 0,1\n",
    "    for _ in range(count):\n",
    "        num1, num2 = num2, num1 + num2\n",
    "    return num2"
   ]
  },
  {
   "cell_type": "code",
   "execution_count": 82,
   "metadata": {
    "collapsed": true
   },
   "outputs": [
    {
     "name": "stdout",
     "output_type": "stream",
     "text": [
      "insert password : dss\n",
      "run time : 1.3271408081054688\n"
     ]
    }
   ],
   "source": [
    "func_1(range(100))"
   ]
  },
  {
   "cell_type": "code",
   "execution_count": 83,
   "metadata": {
    "collapsed": true
   },
   "outputs": [
    {
     "name": "stdout",
     "output_type": "stream",
     "text": [
      "insert password : dss\n",
      "run time : 1.9173953533172607\n"
     ]
    }
   ],
   "source": [
    "func_2(10)"
   ]
  },
  {
   "cell_type": "markdown",
   "metadata": {},
   "source": [
    "```\n",
    "데코레이터는 기존에 작성되어있는 함수에 내가 추가하고싶은 코드를 작성하려고 할때 사용하는데\n",
    "먼저 추가할 코드가 담긴 데코레이터 함수를 먼저 선언한다\n",
    "wrapper(*args,**kwargs): 이 안에 내가 원하는 코드와 형태로 작성을 한다\n",
    "기존의 함수 앞 뒤에 코드를 추가하고 싶으면\n",
    "        start = time.time()   #새로 추가한코드\n",
    "        func(*args, **kwargs) #코드가 덧붙여질 함수\n",
    "        end = time.time()     #새로 추가한 코드\n",
    "이렇게 작성하는데 start = time.time()과 end = time.time()이 새로 추가한 코드이고 func(*args, **kwargs)가 기존의 덧붙여질 함수이다\n",
    "\n",
    "이런식으로 작성한 후\n",
    "\n",
    "덧붙여질 함수를 선언할 때,\n",
    "@timer\n",
    "@ls_login 을 위에 써주고\n",
    "def func_a 와 같이 선언한다\n",
    "\n",
    "```"
   ]
  },
  {
   "cell_type": "markdown",
   "metadata": {},
   "source": []
  },
  {
   "cell_type": "code",
   "execution_count": null,
   "metadata": {},
   "outputs": [],
   "source": []
  }
 ],
 "metadata": {
  "kernelspec": {
   "display_name": "Python 3",
   "language": "python",
   "name": "python3"
  },
  "language_info": {
   "codemirror_mode": {
    "name": "ipython",
    "version": 3
   },
   "file_extension": ".py",
   "mimetype": "text/x-python",
   "name": "python",
   "nbconvert_exporter": "python",
   "pygments_lexer": "ipython3",
   "version": "3.8.5"
  }
 },
 "nbformat": 4,
 "nbformat_minor": 4
}
