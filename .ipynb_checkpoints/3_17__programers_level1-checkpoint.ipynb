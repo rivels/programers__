{
 "cells": [
  {
   "cell_type": "markdown",
   "metadata": {},
   "source": [
    "# 정수 제곱근 판별"
   ]
  },
  {
   "cell_type": "code",
   "execution_count": null,
   "metadata": {},
   "outputs": [],
   "source": [
    "def solution(n):\n",
    "    if n**0.5 == int(n**0.5):\n",
    "        return ((n**0.5)+1)**2\n",
    "    else:\n",
    "        return -1"
   ]
  },
  {
   "cell_type": "code",
   "execution_count": 10,
   "metadata": {},
   "outputs": [],
   "source": [
    "a = 121"
   ]
  },
  {
   "cell_type": "code",
   "execution_count": 11,
   "metadata": {},
   "outputs": [
    {
     "data": {
      "text/plain": [
       "True"
      ]
     },
     "execution_count": 11,
     "metadata": {},
     "output_type": "execute_result"
    }
   ],
   "source": [
    "a**0.5 ==int(a**0.5)"
   ]
  },
  {
   "cell_type": "markdown",
   "metadata": {},
   "source": [
    "# 제일작은수 제거하기"
   ]
  },
  {
   "cell_type": "code",
   "execution_count": 31,
   "metadata": {},
   "outputs": [],
   "source": [
    "def solution(arr):\n",
    "    arr.remove(min(arr)) #remove 함수를 적용하면 그 list에 바로 제거된상태로 저장된다.\n",
    "    if len(arr) == 0:\n",
    "        return [-1]\n",
    "    else:\n",
    "        return arr"
   ]
  },
  {
   "cell_type": "code",
   "execution_count": 32,
   "metadata": {},
   "outputs": [
    {
     "data": {
      "text/plain": [
       "[2, 3, 4, 5]"
      ]
     },
     "execution_count": 32,
     "metadata": {},
     "output_type": "execute_result"
    }
   ],
   "source": [
    "solution([1,2,3,4,5])"
   ]
  },
  {
   "cell_type": "code",
   "execution_count": 22,
   "metadata": {},
   "outputs": [],
   "source": [
    "A = [1,2,3,4,5]"
   ]
  },
  {
   "cell_type": "code",
   "execution_count": 25,
   "metadata": {},
   "outputs": [],
   "source": [
    "A.remove(5)"
   ]
  },
  {
   "cell_type": "code",
   "execution_count": 26,
   "metadata": {},
   "outputs": [
    {
     "data": {
      "text/plain": [
       "[2, 3, 4]"
      ]
     },
     "execution_count": 26,
     "metadata": {},
     "output_type": "execute_result"
    }
   ],
   "source": [
    "A"
   ]
  },
  {
   "cell_type": "markdown",
   "metadata": {},
   "source": [
    "# 키패드 누르기\n",
    "___\n",
    "<h3> 카카오인턴문제</h3>\n",
    "눌러야하는 숫자의 리스트와 왼손잡이인지, 오른손잡이인지에 대한 정보가 주어진다.</br>\n",
    "\n",
    "재귀함수로 키패드의 번호를 넣으면 인덱스 번호를 출력해주도록 작성하고 키패드를 리스트화 했다. 그리고 왼손가락 오른손가락이 무조건 치게 되는 숫자 패드들을 리스트로 구성해서 먼저 처리하고 가장 처리가 까다로운 2580을 처리하기 위해서 2차원 배열의 인덱스 번호를 해결방법으로 썼다.  \n",
    "\n",
    "이동횟수는 각 차원의 인덱스 번호끼리 빼고 각각 절댓값을 씌워서 그 합이 크면 이동 횟수가 많은 것. 그래서 이와같은 방식으로 이동횟수에 대한 비교를 구현했고 해결됐다."
   ]
  },
  {
   "cell_type": "code",
   "execution_count": null,
   "metadata": {},
   "outputs": [],
   "source": []
  },
  {
   "cell_type": "code",
   "execution_count": 178,
   "metadata": {},
   "outputs": [],
   "source": [
    "def solution(numbers, hand):\n",
    "    def finder(n):\n",
    "        keypad = [\n",
    "        [1,2,3],\n",
    "        [4,5,6],\n",
    "        [7,8,9],\n",
    "        ['*',0,'#']]\n",
    "        for i in keypad:\n",
    "            for j in i:\n",
    "                if j == n:\n",
    "                    return keypad.index(i),i.index(j)\n",
    "    answer = ''\n",
    "    keypad = [\n",
    "        [1,2,3],\n",
    "        [4,5,6],\n",
    "        [7,8,9],\n",
    "        ['*',0,'#']]\n",
    "    lp,rp = (3,0),(3,2)\n",
    "    L, R = [1,4,7], [3,6,9]\n",
    "    target = ()\n",
    "    for i in numbers:\n",
    "        print(lp,'lp',rp,'rp')\n",
    "        if i in L:\n",
    "            answer += 'L'\n",
    "            lp = finder(i)\n",
    "        elif i in R:\n",
    "            answer += 'R'\n",
    "            rp = finder(i)\n",
    "        else:\n",
    "            target = finder(i)\n",
    "            if (abs(lp[0] - target[0]) + abs(lp[1] - target[1])) > (abs(rp[0] - target[0]) + abs(rp[1] - target[1])):\n",
    "                answer += 'R'\n",
    "                rp = target\n",
    "            elif (abs(lp[0] - target[0]) + abs(lp[1] - target[1])) < (abs(rp[0] - target[0]) + abs(rp[1] - target[1])):\n",
    "                answer += 'L'\n",
    "                lp = target\n",
    "            else:\n",
    "                if hand == \"left\":\n",
    "                    answer += 'L'\n",
    "                    lp = target\n",
    "                else:\n",
    "                    answer += 'R'\n",
    "                    rp = target\n",
    "        print(i)\n",
    "        print(lp,'lp',rp,'rp')\n",
    "        print(answer)\n",
    "        print('-----------------')\n",
    "    return answer"
   ]
  },
  {
   "cell_type": "code",
   "execution_count": 179,
   "metadata": {},
   "outputs": [
    {
     "name": "stdout",
     "output_type": "stream",
     "text": [
      "(3, 0) lp (3, 2) rp\n",
      "1\n",
      "(0, 0) lp (3, 2) rp\n",
      "L\n",
      "-----------------\n",
      "(0, 0) lp (3, 2) rp\n",
      "3\n",
      "(0, 0) lp (0, 2) rp\n",
      "LR\n",
      "-----------------\n",
      "(0, 0) lp (0, 2) rp\n",
      "4\n",
      "(1, 0) lp (0, 2) rp\n",
      "LRL\n",
      "-----------------\n",
      "(1, 0) lp (0, 2) rp\n",
      "5\n",
      "(1, 1) lp (0, 2) rp\n",
      "LRLL\n",
      "-----------------\n",
      "(1, 1) lp (0, 2) rp\n",
      "8\n",
      "(2, 1) lp (0, 2) rp\n",
      "LRLLL\n",
      "-----------------\n",
      "(2, 1) lp (0, 2) rp\n",
      "2\n",
      "(2, 1) lp (0, 1) rp\n",
      "LRLLLR\n",
      "-----------------\n",
      "(2, 1) lp (0, 1) rp\n",
      "1\n",
      "(0, 0) lp (0, 1) rp\n",
      "LRLLLRL\n",
      "-----------------\n",
      "(0, 0) lp (0, 1) rp\n",
      "4\n",
      "(1, 0) lp (0, 1) rp\n",
      "LRLLLRLL\n",
      "-----------------\n",
      "(1, 0) lp (0, 1) rp\n",
      "5\n",
      "(1, 0) lp (1, 1) rp\n",
      "LRLLLRLLR\n",
      "-----------------\n",
      "(1, 0) lp (1, 1) rp\n",
      "9\n",
      "(1, 0) lp (2, 2) rp\n",
      "LRLLLRLLRR\n",
      "-----------------\n",
      "(1, 0) lp (2, 2) rp\n",
      "5\n",
      "(1, 1) lp (2, 2) rp\n",
      "LRLLLRLLRRL\n",
      "-----------------\n"
     ]
    },
    {
     "data": {
      "text/plain": [
       "'LRLLLRLLRRL'"
      ]
     },
     "execution_count": 179,
     "metadata": {},
     "output_type": "execute_result"
    }
   ],
   "source": [
    "solution([1, 3, 4, 5, 8, 2, 1, 4, 5, 9, 5],\"right\")"
   ]
  },
  {
   "cell_type": "code",
   "execution_count": 180,
   "metadata": {
    "scrolled": true
   },
   "outputs": [
    {
     "name": "stdout",
     "output_type": "stream",
     "text": [
      "(3, 0) lp (3, 2) rp\n",
      "6\n",
      "(3, 0) lp (1, 2) rp\n",
      "R\n",
      "-----------------\n",
      "(3, 0) lp (1, 2) rp\n",
      "0\n",
      "(3, 1) lp (1, 2) rp\n",
      "RL\n",
      "-----------------\n",
      "(3, 1) lp (1, 2) rp\n",
      "8\n",
      "(2, 1) lp (1, 2) rp\n",
      "RLL\n",
      "-----------------\n",
      "(2, 1) lp (1, 2) rp\n",
      "2\n",
      "(0, 1) lp (1, 2) rp\n",
      "RLLL\n",
      "-----------------\n",
      "(0, 1) lp (1, 2) rp\n",
      "8\n",
      "(2, 1) lp (1, 2) rp\n",
      "RLLLL\n",
      "-----------------\n",
      "(2, 1) lp (1, 2) rp\n",
      "3\n",
      "(2, 1) lp (0, 2) rp\n",
      "RLLLLR\n",
      "-----------------\n",
      "(2, 1) lp (0, 2) rp\n",
      "1\n",
      "(0, 0) lp (0, 2) rp\n",
      "RLLLLRL\n",
      "-----------------\n",
      "(0, 0) lp (0, 2) rp\n",
      "5\n",
      "(1, 1) lp (0, 2) rp\n",
      "RLLLLRLL\n",
      "-----------------\n",
      "(1, 1) lp (0, 2) rp\n",
      "7\n",
      "(2, 0) lp (0, 2) rp\n",
      "RLLLLRLLL\n",
      "-----------------\n",
      "(2, 0) lp (0, 2) rp\n",
      "6\n",
      "(2, 0) lp (1, 2) rp\n",
      "RLLLLRLLLR\n",
      "-----------------\n",
      "(2, 0) lp (1, 2) rp\n",
      "2\n",
      "(2, 0) lp (0, 1) rp\n",
      "RLLLLRLLLRR\n",
      "-----------------\n"
     ]
    },
    {
     "data": {
      "text/plain": [
       "'RLLLLRLLLRR'"
      ]
     },
     "execution_count": 180,
     "metadata": {},
     "output_type": "execute_result"
    }
   ],
   "source": [
    "solution([6, 0, 8, 2, 8, 3, 1, 5, 7, 6, 2],\"left\")"
   ]
  },
  {
   "cell_type": "markdown",
   "metadata": {},
   "source": [
    "[1, 3, 4, 5, 8, 2, 1, 4, 5, 9, 5]\n",
    "마이코드 :LRLLLRLLRRL\n",
    "정답코드 :LRLLLRLLRRL"
   ]
  },
  {
   "cell_type": "code",
   "execution_count": 113,
   "metadata": {},
   "outputs": [],
   "source": [
    "A = [\n",
    "    [1,2,3],\n",
    "    [4,5,6],\n",
    "    [7,8,9],\n",
    "    ['*',0,'#']]\n",
    "abs(-10)\n",
    "B=1,2"
   ]
  },
  {
   "cell_type": "code",
   "execution_count": 131,
   "metadata": {},
   "outputs": [],
   "source": [
    "def finder(n):\n",
    "    A = [\n",
    "    [1,2,3],\n",
    "    [4,5,6],\n",
    "    [7,8,9],\n",
    "    ['*',0,'#']]\n",
    "    for i in A:\n",
    "        for j in i:\n",
    "            if j == n:\n",
    "                return A.index(i),i.index(j)"
   ]
  },
  {
   "cell_type": "code",
   "execution_count": 133,
   "metadata": {},
   "outputs": [
    {
     "data": {
      "text/plain": [
       "(0, 0)"
      ]
     },
     "execution_count": 133,
     "metadata": {},
     "output_type": "execute_result"
    }
   ],
   "source": [
    "finder(1)"
   ]
  },
  {
   "cell_type": "code",
   "execution_count": 108,
   "metadata": {},
   "outputs": [
    {
     "name": "stdout",
     "output_type": "stream",
     "text": [
      "0 1\n"
     ]
    }
   ],
   "source": [
    "for i in A:\n",
    "    for j in i:\n",
    "        if j == 2:\n",
    "            print(A.index(i),i.index(j))"
   ]
  },
  {
   "cell_type": "code",
   "execution_count": 89,
   "metadata": {},
   "outputs": [],
   "source": [
    "def solution(numbers, hand):\n",
    "    answer = ''\n",
    "    keypad = [\n",
    "    [1,2,3],\n",
    "    [4,5,6],\n",
    "    [7,8,9],\n",
    "    ['*',0,'#']]\n",
    "    for i in numbers:\n",
    "        if i \n",
    "    \n",
    "    return answer"
   ]
  },
  {
   "cell_type": "code",
   "execution_count": 90,
   "metadata": {},
   "outputs": [
    {
     "name": "stdout",
     "output_type": "stream",
     "text": [
      "1\n",
      "3\n",
      "4\n",
      "5\n",
      "8\n",
      "2\n",
      "1\n",
      "4\n",
      "5\n",
      "9\n",
      "5\n"
     ]
    },
    {
     "data": {
      "text/plain": [
       "''"
      ]
     },
     "execution_count": 90,
     "metadata": {},
     "output_type": "execute_result"
    }
   ],
   "source": [
    "solution([1, 3, 4, 5, 8, 2, 1, 4, 5, 9, 5],\"right\")"
   ]
  },
  {
   "cell_type": "code",
   "execution_count": 137,
   "metadata": {},
   "outputs": [],
   "source": [
    "q=()"
   ]
  },
  {
   "cell_type": "code",
   "execution_count": 138,
   "metadata": {},
   "outputs": [
    {
     "data": {
      "text/plain": [
       "tuple"
      ]
     },
     "execution_count": 138,
     "metadata": {},
     "output_type": "execute_result"
    }
   ],
   "source": [
    "type(q)"
   ]
  },
  {
   "cell_type": "code",
   "execution_count": 139,
   "metadata": {},
   "outputs": [],
   "source": [
    "q = finder(8)"
   ]
  },
  {
   "cell_type": "code",
   "execution_count": 140,
   "metadata": {},
   "outputs": [
    {
     "data": {
      "text/plain": [
       "(2, 1)"
      ]
     },
     "execution_count": 140,
     "metadata": {},
     "output_type": "execute_result"
    }
   ],
   "source": [
    "q"
   ]
  },
  {
   "cell_type": "code",
   "execution_count": 145,
   "metadata": {},
   "outputs": [],
   "source": [
    "def TEST(a):\n",
    "    def test():\n",
    "        print('test..')\n",
    "    for i in range(0,10):\n",
    "        test()\n",
    "    return a"
   ]
  },
  {
   "cell_type": "code",
   "execution_count": 146,
   "metadata": {},
   "outputs": [
    {
     "name": "stdout",
     "output_type": "stream",
     "text": [
      "test..\n",
      "test..\n",
      "test..\n",
      "test..\n",
      "test..\n",
      "test..\n",
      "test..\n",
      "test..\n",
      "test..\n",
      "test..\n"
     ]
    },
    {
     "data": {
      "text/plain": [
       "10"
      ]
     },
     "execution_count": 146,
     "metadata": {},
     "output_type": "execute_result"
    }
   ],
   "source": [
    "TEST(10)"
   ]
  },
  {
   "cell_type": "markdown",
   "metadata": {},
   "source": [
    "# 최소공배수(lcm) 최대공약수(gcd) 구하기 문제"
   ]
  },
  {
   "cell_type": "code",
   "execution_count": 235,
   "metadata": {},
   "outputs": [],
   "source": [
    "def solution(n, m):\n",
    "    return max(set([i for i in range(1,n+1) if n%i == 0]) & set([j for j in range(1,m+1) if m%j == 0])),min(set(range(n,n*m+1,n))&set(range(m,n*m+1,m)))"
   ]
  },
  {
   "cell_type": "code",
   "execution_count": 236,
   "metadata": {},
   "outputs": [
    {
     "data": {
      "text/plain": [
       "(4, 20)"
      ]
     },
     "execution_count": 236,
     "metadata": {},
     "output_type": "execute_result"
    }
   ],
   "source": [
    "solution(20,4)"
   ]
  },
  {
   "cell_type": "code",
   "execution_count": 185,
   "metadata": {},
   "outputs": [],
   "source": [
    "a = set([10,12,14,16,18])\n",
    "b = set([9,10,11,13,15,18])"
   ]
  },
  {
   "cell_type": "code",
   "execution_count": 190,
   "metadata": {},
   "outputs": [
    {
     "data": {
      "text/plain": [
       "{10, 18}"
      ]
     },
     "execution_count": 190,
     "metadata": {},
     "output_type": "execute_result"
    }
   ],
   "source": [
    "a & b"
   ]
  },
  {
   "cell_type": "code",
   "execution_count": 227,
   "metadata": {},
   "outputs": [
    {
     "data": {
      "text/plain": [
       "10"
      ]
     },
     "execution_count": 227,
     "metadata": {},
     "output_type": "execute_result"
    }
   ],
   "source": [
    "n=10\n",
    "m=20\n",
    "max(set([i for i in range(2,n+1) if n%i == 0])&set([j for j in range(2,m+1) if m%j == 0]))"
   ]
  },
  {
   "cell_type": "code",
   "execution_count": null,
   "metadata": {},
   "outputs": [],
   "source": []
  }
 ],
 "metadata": {
  "kernelspec": {
   "display_name": "Python 3",
   "language": "python",
   "name": "python3"
  },
  "language_info": {
   "codemirror_mode": {
    "name": "ipython",
    "version": 3
   },
   "file_extension": ".py",
   "mimetype": "text/x-python",
   "name": "python",
   "nbconvert_exporter": "python",
   "pygments_lexer": "ipython3",
   "version": "3.8.5"
  }
 },
 "nbformat": 4,
 "nbformat_minor": 4
}
