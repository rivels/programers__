{
 "cells": [
  {
   "cell_type": "code",
   "execution_count": 47,
   "metadata": {},
   "outputs": [],
   "source": [
    "'''\n",
    "2016년의 월과 일이 주어지면 요일을 찾는 함수작성\n",
    "쉬움\n",
    "'''\n",
    "def solution(a, b):\n",
    "    A = [31, 29, 31, 30, 31, 30, 31, 31, 30, 31, 30, 30]\n",
    "    day = ['FRI','SAT','SUN','MON','TUE','WED','THU']\n",
    "    count = 0\n",
    "    for i in range(0,a-1):\n",
    "        count += A[i]\n",
    "    count += b\n",
    "    return day[(count%7)-1]"
   ]
  },
  {
   "cell_type": "code",
   "execution_count": 48,
   "metadata": {},
   "outputs": [
    {
     "name": "stdout",
     "output_type": "stream",
     "text": [
      "TUE\n"
     ]
    }
   ],
   "source": [
    "solution(5,24)"
   ]
  },
  {
   "cell_type": "code",
   "execution_count": null,
   "metadata": {},
   "outputs": [],
   "source": []
  }
 ],
 "metadata": {
  "kernelspec": {
   "display_name": "Python 3",
   "language": "python",
   "name": "python3"
  },
  "language_info": {
   "codemirror_mode": {
    "name": "ipython",
    "version": 3
   },
   "file_extension": ".py",
   "mimetype": "text/x-python",
   "name": "python",
   "nbconvert_exporter": "python",
   "pygments_lexer": "ipython3",
   "version": "3.8.5"
  }
 },
 "nbformat": 4,
 "nbformat_minor": 4
}
