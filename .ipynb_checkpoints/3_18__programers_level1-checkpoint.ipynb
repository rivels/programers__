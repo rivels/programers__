{
 "cells": [
  {
   "cell_type": "markdown",
   "metadata": {},
   "source": [
    "# 콜라츠 추측"
   ]
  },
  {
   "cell_type": "code",
   "execution_count": null,
   "metadata": {},
   "outputs": [],
   "source": [
    "def solution(num):\n",
    "    cnt = 0\n",
    "    while True:\n",
    "        if num == 1:\n",
    "            break\n",
    "        elif cnt > 500:\n",
    "            cnt = -1\n",
    "            break\n",
    "        elif num % 2:\n",
    "            num = num * 3 + 1\n",
    "            cnt += 1\n",
    "        else:\n",
    "            num /= 2\n",
    "            cnt += 1\n",
    "    return cnt"
   ]
  },
  {
   "cell_type": "code",
   "execution_count": null,
   "metadata": {},
   "outputs": [],
   "source": [
    "a = 3\n",
    "a *= 2 +1"
   ]
  },
  {
   "cell_type": "code",
   "execution_count": null,
   "metadata": {},
   "outputs": [],
   "source": [
    "a"
   ]
  },
  {
   "cell_type": "code",
   "execution_count": null,
   "metadata": {},
   "outputs": [],
   "source": [
    "solution(626331)"
   ]
  },
  {
   "cell_type": "markdown",
   "metadata": {},
   "source": [
    "# 평균구하기 -> 바로해결"
   ]
  },
  {
   "cell_type": "markdown",
   "metadata": {},
   "source": [
    "# 하샤드 수"
   ]
  },
  {
   "cell_type": "code",
   "execution_count": null,
   "metadata": {},
   "outputs": [],
   "source": [
    "def solution(x):\n",
    "    cnt = 0\n",
    "    for i in str(x):\n",
    "        cnt += int(i)\n",
    "    return True if x % cnt == 0 else False"
   ]
  },
  {
   "cell_type": "code",
   "execution_count": null,
   "metadata": {},
   "outputs": [],
   "source": [
    "solution(5555)"
   ]
  },
  {
   "cell_type": "code",
   "execution_count": null,
   "metadata": {},
   "outputs": [],
   "source": [
    "a = 5555\n",
    "cnt = 0\n",
    "for i in str(a):\n",
    "    cnt += int(i)\n",
    "print(cnt)"
   ]
  },
  {
   "cell_type": "markdown",
   "metadata": {},
   "source": [
    "# 핸드폰 번호가리기"
   ]
  },
  {
   "cell_type": "code",
   "execution_count": null,
   "metadata": {},
   "outputs": [],
   "source": [
    "def solution(phone_number):\n",
    "    return str((len(phone_number)-4)*'*' + phone_number[-4:])"
   ]
  },
  {
   "cell_type": "code",
   "execution_count": null,
   "metadata": {},
   "outputs": [],
   "source": [
    "solution('01033334444')"
   ]
  },
  {
   "cell_type": "markdown",
   "metadata": {},
   "source": [
    "# 행렬의덧셈"
   ]
  },
  {
   "cell_type": "code",
   "execution_count": null,
   "metadata": {},
   "outputs": [],
   "source": [
    "def solution(arr1, arr2):\n",
    "    for i in range(0,len(arr1)):\n",
    "        for j in range(0,i):\n",
    "            arr1[i][j] += arr2[i][j]\n",
    "    return arr1\n",
    "            "
   ]
  },
  {
   "cell_type": "code",
   "execution_count": null,
   "metadata": {},
   "outputs": [],
   "source": [
    "def solution(arr1, arr2):\n",
    "    for i in arr1:\n",
    "        for j in i:\n",
    "            arr1[arr1.index(i)][i.index(j)] += arr2[arr1.index(i)][i.index(j)]\n",
    "    return arr1"
   ]
  },
  {
   "cell_type": "code",
   "execution_count": null,
   "metadata": {},
   "outputs": [],
   "source": [
    "'''\n",
    "행렬의 덧셈구현문제\n",
    "for문과 range를 같이 활용해서 해결\n",
    "'''\n",
    "def solution(arr1, arr2):\n",
    "    for i in range(0,len(arr1)):\n",
    "        for j in range(0,len(arr1[i])):\n",
    "            arr1[i][j] += arr2[i][j]\n",
    "    return arr1"
   ]
  },
  {
   "cell_type": "code",
   "execution_count": null,
   "metadata": {
    "scrolled": true
   },
   "outputs": [],
   "source": [
    "solution([[1,2],[2,3]],[[3,4],[5,6]])"
   ]
  },
  {
   "cell_type": "markdown",
   "metadata": {},
   "source": [
    "# x만큼 간격이 있는 n개의 숫자"
   ]
  },
  {
   "cell_type": "code",
   "execution_count": null,
   "metadata": {},
   "outputs": [],
   "source": [
    "def solution(x,n):\n",
    "    return list(range(x,x*(n+1),x))"
   ]
  },
  {
   "cell_type": "code",
   "execution_count": null,
   "metadata": {},
   "outputs": [],
   "source": [
    "solution(2,3)"
   ]
  },
  {
   "cell_type": "code",
   "execution_count": null,
   "metadata": {},
   "outputs": [],
   "source": [
    "def solution(x,n):\n",
    "    A = []\n",
    "    if x != 0:\n",
    "        return list(range(x,x*(n+1),x))\n",
    "    else:\n",
    "        for i in range(0,n):\n",
    "            A.append(0)\n",
    "        return A"
   ]
  },
  {
   "cell_type": "code",
   "execution_count": null,
   "metadata": {},
   "outputs": [],
   "source": [
    "solution(0,10)"
   ]
  },
  {
   "cell_type": "markdown",
   "metadata": {},
   "source": [
    "# 소수만들기"
   ]
  },
  {
   "cell_type": "code",
   "execution_count": null,
   "metadata": {},
   "outputs": [],
   "source": [
    "'''\n",
    "경우의 수도 잘 구했고, 소수 판별도 잘 했는데\n",
    "경우의 수들에의해 나온 수들을 내 마음대로 중복제거(set)를 걸어서 문제가 계속 오답으로\n",
    "나왔다.\n",
    "다시말해서, 이 문제는 입력값들은 중복값이 없지만 3개를 랜덤으로 골라서 더한 결괏값에\n",
    "대해서는 조건이 없었다. 그렇기 때문에 결괏값이 중복이 나오면 그 중복이 나온 수만큼\n",
    "횟수가 더해져야하는 것이었다.\n",
    "스발 조건을 더 잘봐야 할듯.... 마음대로 판단하는 습관을 버려야할것 같다.\n",
    "'''"
   ]
  },
  {
   "cell_type": "code",
   "execution_count": null,
   "metadata": {},
   "outputs": [],
   "source": [
    "def solution(nums):\n",
    "    answer = 0\n",
    "    target = []\n",
    "    for i in nums:\n",
    "        for j in range(nums.index(i)+2,len(nums)+1):\n",
    "            target.append(i+j)\n",
    "    target = set(target)\n",
    "    T = set(range(1,max(target)))\n",
    "    for k in range(2,max(target)):\n",
    "        T -= set(range(k*2,max(target),k))\n",
    "    for l in target:\n",
    "        if l in T:\n",
    "            answer += 1\n",
    "            print(l)\n",
    "    return answer"
   ]
  },
  {
   "cell_type": "code",
   "execution_count": null,
   "metadata": {},
   "outputs": [],
   "source": [
    "solution([1,2,3,4])"
   ]
  },
  {
   "cell_type": "code",
   "execution_count": null,
   "metadata": {},
   "outputs": [],
   "source": [
    "A = set(range(1,10))\n",
    "while True:\n",
    "    i = 2\n",
    "    A -= set(range(i,10,i))\n",
    "    i += 1\n",
    "    if i > 100:\n",
    "        break"
   ]
  },
  {
   "cell_type": "code",
   "execution_count": null,
   "metadata": {},
   "outputs": [],
   "source": [
    "A = set(range(1,1000))\n",
    "for i in range(2,1000):\n",
    "    A -= set(range(2*i,1000,i))"
   ]
  },
  {
   "cell_type": "code",
   "execution_count": null,
   "metadata": {},
   "outputs": [],
   "source": [
    "A"
   ]
  },
  {
   "cell_type": "code",
   "execution_count": 9,
   "metadata": {},
   "outputs": [],
   "source": [
    "def is_prime_number(num):\n",
    "    if num==0 or num==1:\n",
    "        return False\n",
    "    else:\n",
    "        for n in range(2, (num//2)+1):      # math를 사용하지 않고 (num//2)+1 까지로 설정\n",
    "            if num%n == 0:\n",
    "                return False\n",
    "        \n",
    "        return True\n",
    "\n",
    "def solution1(nums):\n",
    "    answer = 0\n",
    "    cmb = list(combinations(nums,3)) \n",
    "    print(len(cmb))\n",
    "    for arr in cmb:\n",
    "        if is_prime_number(sum(arr)):       # cmb를 하나씩 가져와 sum한 값을 소수 판별 함수로 넘겨줌\n",
    "            answer += 1                     # return 값이 True이면 count(=answer) +1\n",
    "    \n",
    "    return answer"
   ]
  },
  {
   "cell_type": "code",
   "execution_count": 60,
   "metadata": {},
   "outputs": [],
   "source": [
    "def solution2(nums):\n",
    "    total = []\n",
    "    for i in range(0,len(nums)-2):\n",
    "        for j in range(i+1,len(nums)-1):\n",
    "            for k in range(j+1,len(nums)):\n",
    "                total.append(nums[i]+nums[j]+nums[k])\n",
    "\n",
    "    for l in list(total):\n",
    "        for n in range(2,(l//2)+1):\n",
    "            if l % n == 0:\n",
    "                total.remove(l)\n",
    "                break\n",
    "    return len(total)\n"
   ]
  },
  {
   "cell_type": "code",
   "execution_count": 61,
   "metadata": {},
   "outputs": [
    {
     "name": "stdout",
     "output_type": "stream",
     "text": [
      "1774    27\n",
      "1752    27\n",
      "1525    26\n",
      "1497    25\n",
      "1823    24\n",
      "        ..\n",
      "2504     1\n",
      "2536     1\n",
      "2479     1\n",
      "460      1\n",
      "424      1\n",
      "Length: 2312, dtype: int64\n",
      "2047    1\n",
      "1190    1\n",
      "1294    1\n",
      "1292    1\n",
      "1290    1\n",
      "       ..\n",
      "563     1\n",
      "2610    1\n",
      "561     1\n",
      "2608    1\n",
      "2049    1\n",
      "Length: 2312, dtype: int64\n"
     ]
    },
    {
     "data": {
      "text/plain": [
       "2624"
      ]
     },
     "execution_count": 61,
     "metadata": {},
     "output_type": "execute_result"
    }
   ],
   "source": [
    "solution2(test)"
   ]
  },
  {
   "cell_type": "code",
   "execution_count": 51,
   "metadata": {
    "scrolled": true
   },
   "outputs": [
    {
     "name": "stdout",
     "output_type": "stream",
     "text": [
      "19600\n"
     ]
    },
    {
     "data": {
      "text/plain": [
       "2624"
      ]
     },
     "execution_count": 51,
     "metadata": {},
     "output_type": "execute_result"
    }
   ],
   "source": [
    "solution1(test)"
   ]
  },
  {
   "cell_type": "code",
   "execution_count": 8,
   "metadata": {},
   "outputs": [
    {
     "data": {
      "text/plain": [
       "19600"
      ]
     },
     "execution_count": 8,
     "metadata": {},
     "output_type": "execute_result"
    }
   ],
   "source": [
    "from itertools import combinations\n",
    "len(list(combinations(test,3)))"
   ]
  },
  {
   "cell_type": "code",
   "execution_count": 18,
   "metadata": {},
   "outputs": [],
   "source": [
    "test = np.random.randint(1,1000,50)"
   ]
  },
  {
   "cell_type": "code",
   "execution_count": null,
   "metadata": {},
   "outputs": [],
   "source": [
    "len(test)"
   ]
  },
  {
   "cell_type": "code",
   "execution_count": null,
   "metadata": {},
   "outputs": [],
   "source": [
    "3456 7 8 9 10111213\n",
    "1471013161922252831"
   ]
  },
  {
   "cell_type": "code",
   "execution_count": 30,
   "metadata": {},
   "outputs": [],
   "source": [
    "import numpy as np"
   ]
  },
  {
   "cell_type": "code",
   "execution_count": null,
   "metadata": {},
   "outputs": [],
   "source": []
  }
 ],
 "metadata": {
  "kernelspec": {
   "display_name": "Python 3",
   "language": "python",
   "name": "python3"
  },
  "language_info": {
   "codemirror_mode": {
    "name": "ipython",
    "version": 3
   },
   "file_extension": ".py",
   "mimetype": "text/x-python",
   "name": "python",
   "nbconvert_exporter": "python",
   "pygments_lexer": "ipython3",
   "version": "3.8.5"
  }
 },
 "nbformat": 4,
 "nbformat_minor": 4
}
