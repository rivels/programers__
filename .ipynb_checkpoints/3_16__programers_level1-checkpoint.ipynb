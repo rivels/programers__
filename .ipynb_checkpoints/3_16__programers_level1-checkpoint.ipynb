{
 "cells": [
  {
   "cell_type": "markdown",
   "metadata": {},
   "source": [
    "# 김서방찾기문제"
   ]
  },
  {
   "cell_type": "code",
   "execution_count": 22,
   "metadata": {},
   "outputs": [],
   "source": [
    "\n",
    "def solution(seoul):\n",
    "    for i in enumerate(seoul):\n",
    "        if i[1] == \"Kim\":\n",
    "            return print('\"김서방은 {}에 있다\"'.format(i[0]))"
   ]
  },
  {
   "cell_type": "code",
   "execution_count": 27,
   "metadata": {},
   "outputs": [
    {
     "data": {
      "text/plain": [
       "'김서방은 1에 있다'"
      ]
     },
     "execution_count": 27,
     "metadata": {},
     "output_type": "execute_result"
    }
   ],
   "source": [
    "solution([\"Jane\",\"Kim\",\"lee\"])"
   ]
  },
  {
   "cell_type": "code",
   "execution_count": 25,
   "metadata": {},
   "outputs": [],
   "source": [
    "def findKim(seoul):\n",
    "    return \"김서방은 {}에 있다\".format(seoul.index('Kim'))"
   ]
  },
  {
   "cell_type": "code",
   "execution_count": 26,
   "metadata": {},
   "outputs": [],
   "source": [
    "def solution(seoul):\n",
    "    return \"김서방은 {}에 있다\".format(seoul.index('Kim'))"
   ]
  },
  {
   "cell_type": "code",
   "execution_count": 28,
   "metadata": {},
   "outputs": [],
   "source": [
    "A = [1,2,3,4,5,6,'a','b']"
   ]
  },
  {
   "cell_type": "code",
   "execution_count": 30,
   "metadata": {},
   "outputs": [
    {
     "data": {
      "text/plain": [
       "0"
      ]
     },
     "execution_count": 30,
     "metadata": {},
     "output_type": "execute_result"
    }
   ],
   "source": [
    "A.index(1)"
   ]
  },
  {
   "cell_type": "markdown",
   "metadata": {},
   "source": [
    "# 소수찾기문제\n",
    "\n",
    "- 에라토스테네스의 체 라는 방식을 활용해야 통과할 수 있는 문제\n",
    "- 에라토스테네스의 체는 소수를 찾는 방식의 한 종류인데 풀어써보자면, \\n 2부터 시작해서 2의 배수들을 모두 제거하고 그 다음 3의 배수를 제거, 4의배수 제거.. 와 같이 계속해서 제거해 나간 후 남은 수들을 줍줍하면 소수들을 얻을 수 있다.\n",
    "- 아래문제는 set 연산을 활용하는데 그 안에서는 arange(2*i,n+1,i) 를 굴린다. n+1은 입력받은 수까지 확인해야하기 때문에 n+1까지 시행하게 되고 2부터 arange를 잡기때문에 1은 고려할 필요가 없어진다.\n",
    "        - 꽤 어려웠던 문제로 에라토스테네스의 체를 알아야 풀 수 있었기때문에 에라토스테네스의 체를 기억해둬야 할듯하다"
   ]
  },
  {
   "cell_type": "code",
   "execution_count": 80,
   "metadata": {},
   "outputs": [],
   "source": [
    "def solution(n):\n",
    "    answer, test = [2,3] , []\n",
    "    for i in range(4,n+1):\n",
    "        for j in range(2,i):\n",
    "            if i%j == 0:\n",
    "                break\n",
    "            else:\n",
    "                print(i,j)\n",
    "                test.append(j)\n",
    "        if 0 in test:\n",
    "            \n",
    "    return answer"
   ]
  },
  {
   "cell_type": "code",
   "execution_count": 103,
   "metadata": {},
   "outputs": [
    {
     "name": "stdout",
     "output_type": "stream",
     "text": [
      "4 // 2\n",
      "5 // 2\n",
      "5 // 3\n",
      "5 // 4\n",
      "6 // 2\n",
      "7 // 2\n",
      "7 // 3\n",
      "7 // 4\n",
      "7 // 5\n",
      "7 // 6\n",
      "8 // 2\n",
      "9 // 2\n",
      "9 // 3\n",
      "10 // 2\n"
     ]
    },
    {
     "data": {
      "text/plain": [
       "(4, [5, 7])"
      ]
     },
     "execution_count": 103,
     "metadata": {},
     "output_type": "execute_result"
    }
   ],
   "source": [
    "solution(10)"
   ]
  },
  {
   "cell_type": "code",
   "execution_count": 121,
   "metadata": {},
   "outputs": [],
   "source": [
    "\n",
    "def solution(n):\n",
    "    if n == 3:\n",
    "        return 2\n",
    "    elif n ==2:\n",
    "        return 1\n",
    "    answer,test = [], []\n",
    "    for i in range(4,n+1):\n",
    "        for j in range(2,i):\n",
    "            print(i,'//',j)\n",
    "            if i%j == 0:\n",
    "                print(i,\"는 소수가 아님\")\n",
    "                break\n",
    "            else:\n",
    "                test.append(j)\n",
    "        print(test)\n",
    "        if len(test) == i-2:\n",
    "            print(i,\"는 소수임\")\n",
    "            answer.append(i)\n",
    "            test = []\n",
    "        else:\n",
    "            test = []\n",
    "    return (len(answer)+2)"
   ]
  },
  {
   "cell_type": "code",
   "execution_count": 123,
   "metadata": {},
   "outputs": [
    {
     "data": {
      "text/plain": [
       "2"
      ]
     },
     "execution_count": 123,
     "metadata": {},
     "output_type": "execute_result"
    }
   ],
   "source": [
    "solution(3)"
   ]
  },
  {
   "cell_type": "markdown",
   "metadata": {},
   "source": [
    "## 해답"
   ]
  },
  {
   "cell_type": "code",
   "execution_count": 127,
   "metadata": {},
   "outputs": [],
   "source": [
    "def solution2(n):\n",
    "    N = set(range(2,n+1))\n",
    "    for i in range(2,n+1):\n",
    "        if i in N:\n",
    "            N -= set(range(2*i,n+1,i))\n",
    "    return len(N)"
   ]
  },
  {
   "cell_type": "code",
   "execution_count": 128,
   "metadata": {},
   "outputs": [
    {
     "data": {
      "text/plain": [
       "4"
      ]
     },
     "execution_count": 128,
     "metadata": {},
     "output_type": "execute_result"
    }
   ],
   "source": [
    "solution2(10)"
   ]
  },
  {
   "cell_type": "code",
   "execution_count": 154,
   "metadata": {
    "scrolled": true
   },
   "outputs": [
    {
     "name": "stdout",
     "output_type": "stream",
     "text": [
      "{1, 2, 3, 5, 7, 11, 13, 17, 19, 23, 29, 31, 37, 41, 43, 47, 53, 59, 61, 67, 71, 73, 79, 83, 89, 97}\n"
     ]
    }
   ],
   "source": [
    "A = set(range(1,100))\n",
    "for i in range(2,100):\n",
    "    A -= set(range(2*i,101,i))\n",
    "print(A)"
   ]
  },
  {
   "cell_type": "code",
   "execution_count": 160,
   "metadata": {},
   "outputs": [
    {
     "name": "stdout",
     "output_type": "stream",
     "text": [
      "[4, 6, 8, 10, 12, 14, 16, 18, 20, 22, 24, 26, 28, 30, 32, 34, 36, 38, 40, 42, 44, 46, 48, 50, 52, 54, 56, 58, 60, 62, 64, 66, 68, 70, 72, 74, 76, 78, 80, 82, 84, 86, 88, 90, 92, 94, 96, 98, 100]\n",
      "[6, 9, 12, 15, 18, 21, 24, 27, 30, 33, 36, 39, 42, 45, 48, 51, 54, 57, 60, 63, 66, 69, 72, 75, 78, 81, 84, 87, 90, 93, 96, 99]\n",
      "[8, 12, 16, 20, 24, 28, 32, 36, 40, 44, 48, 52, 56, 60, 64, 68, 72, 76, 80, 84, 88, 92, 96, 100]\n",
      "[10, 15, 20, 25, 30, 35, 40, 45, 50, 55, 60, 65, 70, 75, 80, 85, 90, 95, 100]\n",
      "[12, 18, 24, 30, 36, 42, 48, 54, 60, 66, 72, 78, 84, 90, 96]\n",
      "[14, 21, 28, 35, 42, 49, 56, 63, 70, 77, 84, 91, 98]\n",
      "[16, 24, 32, 40, 48, 56, 64, 72, 80, 88, 96]\n",
      "[18, 27, 36, 45, 54, 63, 72, 81, 90, 99]\n",
      "[20, 30, 40, 50, 60, 70, 80, 90, 100]\n",
      "[22, 33, 44, 55, 66, 77, 88, 99]\n",
      "[24, 36, 48, 60, 72, 84, 96]\n",
      "[26, 39, 52, 65, 78, 91]\n",
      "[28, 42, 56, 70, 84, 98]\n",
      "[30, 45, 60, 75, 90]\n",
      "[32, 48, 64, 80, 96]\n",
      "[34, 51, 68, 85]\n",
      "[36, 54, 72, 90]\n",
      "[38, 57, 76, 95]\n",
      "[40, 60, 80, 100]\n",
      "[42, 63, 84]\n",
      "[44, 66, 88]\n",
      "[46, 69, 92]\n",
      "[48, 72, 96]\n",
      "[50, 75, 100]\n",
      "[52, 78]\n",
      "[54, 81]\n",
      "[56, 84]\n",
      "[58, 87]\n",
      "[60, 90]\n",
      "[62, 93]\n",
      "[64, 96]\n",
      "[66, 99]\n",
      "[68]\n",
      "[70]\n",
      "[72]\n",
      "[74]\n",
      "[76]\n",
      "[78]\n",
      "[80]\n",
      "[82]\n",
      "[84]\n",
      "[86]\n",
      "[88]\n",
      "[90]\n",
      "[92]\n",
      "[94]\n",
      "[96]\n",
      "[98]\n",
      "[100]\n",
      "[]\n",
      "[]\n",
      "[]\n",
      "[]\n",
      "[]\n",
      "[]\n",
      "[]\n",
      "[]\n",
      "[]\n",
      "[]\n",
      "[]\n",
      "[]\n",
      "[]\n",
      "[]\n",
      "[]\n",
      "[]\n",
      "[]\n",
      "[]\n",
      "[]\n",
      "[]\n",
      "[]\n",
      "[]\n",
      "[]\n",
      "[]\n",
      "[]\n",
      "[]\n",
      "[]\n",
      "[]\n",
      "[]\n",
      "[]\n",
      "[]\n",
      "[]\n",
      "[]\n",
      "[]\n",
      "[]\n",
      "[]\n",
      "[]\n",
      "[]\n",
      "[]\n",
      "[]\n",
      "[]\n",
      "[]\n",
      "[]\n",
      "[]\n",
      "[]\n",
      "[]\n",
      "[]\n",
      "[]\n",
      "[]\n"
     ]
    }
   ],
   "source": [
    "A = set(range(1,100))\n",
    "for i in range(2,100):\n",
    "    print(list(range(2*i,101,i)))"
   ]
  },
  {
   "cell_type": "code",
   "execution_count": 140,
   "metadata": {},
   "outputs": [
    {
     "name": "stdout",
     "output_type": "stream",
     "text": [
      "0\n",
      "1\n",
      "2\n",
      "3\n",
      "4\n",
      "5\n",
      "6\n",
      "7\n",
      "8\n",
      "9\n"
     ]
    }
   ],
   "source": [
    "for a in range(0,10):\n",
    "    print(a)"
   ]
  },
  {
   "cell_type": "code",
   "execution_count": 164,
   "metadata": {},
   "outputs": [],
   "source": [
    "def solution(n):\n",
    "    N = set(range(2,n+1))\n",
    "    for i in range(2,n+1):\n",
    "        N -= set(range(2*i,n+1,i))\n",
    "    return len(N),N"
   ]
  },
  {
   "cell_type": "code",
   "execution_count": 165,
   "metadata": {},
   "outputs": [
    {
     "data": {
      "text/plain": [
       "(8, {2, 3, 5, 7, 11, 13, 17, 19})"
      ]
     },
     "execution_count": 165,
     "metadata": {},
     "output_type": "execute_result"
    }
   ],
   "source": [
    "solution(20)"
   ]
  },
  {
   "cell_type": "markdown",
   "metadata": {},
   "source": [
    "# 수박수박문제"
   ]
  },
  {
   "cell_type": "code",
   "execution_count": 182,
   "metadata": {},
   "outputs": [
    {
     "data": {
      "text/plain": [
       "int"
      ]
     },
     "execution_count": 182,
     "metadata": {},
     "output_type": "execute_result"
    }
   ],
   "source": [
    "n = 4\n",
    "type(n)"
   ]
  },
  {
   "cell_type": "code",
   "execution_count": 184,
   "metadata": {},
   "outputs": [],
   "source": [
    "a = '수박'*int(n/2)"
   ]
  },
  {
   "cell_type": "code",
   "execution_count": 185,
   "metadata": {},
   "outputs": [
    {
     "data": {
      "text/plain": [
       "'수박수박'"
      ]
     },
     "execution_count": 185,
     "metadata": {},
     "output_type": "execute_result"
    }
   ],
   "source": [
    "a"
   ]
  },
  {
   "cell_type": "code",
   "execution_count": 199,
   "metadata": {},
   "outputs": [
    {
     "ename": "SyntaxError",
     "evalue": "invalid syntax (<ipython-input-199-1e7ed3889d6b>, line 3)",
     "output_type": "error",
     "traceback": [
      "\u001b[0;36m  File \u001b[0;32m\"<ipython-input-199-1e7ed3889d6b>\"\u001b[0;36m, line \u001b[0;32m3\u001b[0m\n\u001b[0;31m    return answer if n%2 ==0 or answer + str('수')\u001b[0m\n\u001b[0m                                                 ^\u001b[0m\n\u001b[0;31mSyntaxError\u001b[0m\u001b[0;31m:\u001b[0m invalid syntax\n"
     ]
    }
   ],
   "source": [
    "def solution(n):\n",
    "    answer = '수박'*int(n/2)\n",
    "    return answer if n%2 ==0 or answer + str('수')"
   ]
  },
  {
   "cell_type": "code",
   "execution_count": 204,
   "metadata": {},
   "outputs": [],
   "source": [
    "def solution(n):\n",
    "    if n%2 ==0:\n",
    "        answer = '수박'*int(n/2)\n",
    "        return '수박'*int(n/2)\n",
    "    else:\n",
    "        answer = '수박'*int(n/2) + '수'\n",
    "        return answer"
   ]
  },
  {
   "cell_type": "code",
   "execution_count": 207,
   "metadata": {},
   "outputs": [
    {
     "data": {
      "text/plain": [
       "'수박수박수박수'"
      ]
     },
     "execution_count": 207,
     "metadata": {},
     "output_type": "execute_result"
    }
   ],
   "source": [
    "solution(7)"
   ]
  },
  {
   "cell_type": "code",
   "execution_count": 206,
   "metadata": {},
   "outputs": [],
   "source": [
    "def water_melon(n):\n",
    "    answer = '수박'* n\n",
    "    return answer[:n]"
   ]
  },
  {
   "cell_type": "code",
   "execution_count": 208,
   "metadata": {},
   "outputs": [
    {
     "data": {
      "text/plain": [
       "'수박수박수박수'"
      ]
     },
     "execution_count": 208,
     "metadata": {},
     "output_type": "execute_result"
    }
   ],
   "source": [
    "water_melon(7)"
   ]
  },
  {
   "cell_type": "markdown",
   "metadata": {},
   "source": [
    "# 시저암호\n",
    "- 입력받은 문자열을 같이 입력받은 인덱스 만큼 알파벳 순서에서 뒤로 밀어서 변경된 값을 출력하는 문제."
   ]
  },
  {
   "cell_type": "code",
   "execution_count": 308,
   "metadata": {},
   "outputs": [],
   "source": [
    "def solution(s, n):\n",
    "    total = 'abcdefghijklmnopqrstuvwxyz'\n",
    "    TOTAL = total.upper()\n",
    "    answer = []\n",
    "    s = list(s)\n",
    "    for i in s:\n",
    "        if i != ' ' and i in TOTAL:\n",
    "            if TOTAL.index(i)+n > 25:\n",
    "                K = int(TOTAL.index(i)) + n - 26\n",
    "                answer.append(TOTAL[K])\n",
    "            else:\n",
    "                answer.append(TOTAL[(TOTAL.index(i))+n])\n",
    "\n",
    "        elif i != ' ' and i in total:\n",
    "            if total.index(i)+n > 25:\n",
    "                k = int(total.index(i)) + n - 26\n",
    "                answer.append(total[K])\n",
    "            else:\n",
    "                answer.append(total[(total.index(i))+n])\n",
    "        else:\n",
    "            answer.append(i)\n",
    "\n",
    "    return ''.join(answer)"
   ]
  },
  {
   "cell_type": "code",
   "execution_count": 309,
   "metadata": {},
   "outputs": [
    {
     "data": {
      "text/plain": [
       "'BC'"
      ]
     },
     "execution_count": 309,
     "metadata": {},
     "output_type": "execute_result"
    }
   ],
   "source": [
    "solution('AB',1)"
   ]
  },
  {
   "cell_type": "code",
   "execution_count": 292,
   "metadata": {
    "collapsed": true
   },
   "outputs": [
    {
     "name": "stdout",
     "output_type": "stream",
     "text": [
      "f\n",
      "['h', ' ', 'B', ' ', 'C', ' ', 'd', 'e', ' ', 'f', ' ', 'z', 'z', 'z']\n",
      " \n",
      "       \n",
      "B\n",
      "['h', ' ', 'D', ' ', 'C', ' ', 'd', 'e', ' ', 'f', ' ', 'z', 'z', 'z']\n",
      " \n",
      "       \n",
      "C\n",
      "['h', ' ', 'D', ' ', 'E', ' ', 'd', 'e', ' ', 'f', ' ', 'z', 'z', 'z']\n",
      " \n",
      "       \n",
      "d\n",
      "['h', ' ', 'D', ' ', 'E', ' ', 'f', 'e', ' ', 'f', ' ', 'z', 'z', 'z']\n",
      "e\n",
      "['h', ' ', 'D', ' ', 'E', ' ', 'f', 'g', ' ', 'f', ' ', 'z', 'z', 'z']\n",
      " \n",
      "       \n",
      "f\n",
      "['h', ' ', 'D', ' ', 'E', ' ', 'h', 'g', ' ', 'f', ' ', 'z', 'z', 'z']\n",
      " \n",
      "       \n",
      "z\n",
      "z\n",
      "z\n",
      "h D E hg f bbb\n"
     ]
    }
   ],
   "source": [
    "s='f B C de f zzz'\n",
    "n=2\n",
    "s = list(s)\n",
    "total = 'abcdefghijklmnopqrstuvwxyz'\n",
    "TOTAL = total.upper()\n",
    "for i in s:\n",
    "    print(i)\n",
    "    if i != ' ' and i in TOTAL:\n",
    "        if TOTAL.index(i)+n > 25:\n",
    "            K = int(TOTAL.index(i)) + n - 26\n",
    "            s[int(s.index(str(i)))] = TOTAL[K]\n",
    "        else:\n",
    "            s[int(s.index(str(i)))] = TOTAL[(TOTAL.index(i))+n]\n",
    "            print(s)\n",
    "    elif i != ' ' and i in total:\n",
    "        if total.index(i)+n > 25:\n",
    "            k = int(total.index(i)) + n - 26\n",
    "            s[int(s.index(str(i)))] = total[k]\n",
    "        else:\n",
    "            s[int(s.index(str(i)))] = total[(total.index(i))+n]\n",
    "            print(s)\n",
    "    else:\n",
    "        print(i,i,i,i)\n",
    "        pass\n",
    "    \n",
    "print(''.join(s))"
   ]
  },
  {
   "cell_type": "code",
   "execution_count": 282,
   "metadata": {},
   "outputs": [
    {
     "data": {
      "text/plain": [
       "25"
      ]
     },
     "execution_count": 282,
     "metadata": {},
     "output_type": "execute_result"
    }
   ],
   "source": [
    "TOTAL.index('Z')"
   ]
  },
  {
   "cell_type": "code",
   "execution_count": 286,
   "metadata": {},
   "outputs": [
    {
     "name": "stdout",
     "output_type": "stream",
     "text": [
      "c\n",
      " \n",
      "D\n",
      " \n",
      "E\n",
      " \n",
      "h\n",
      "g\n",
      " \n",
      "f\n",
      " \n",
      "z\n"
     ]
    }
   ],
   "source": [
    "for i in s:\n",
    "    print(i)"
   ]
  },
  {
   "cell_type": "markdown",
   "metadata": {},
   "source": [
    "# 내적문제"
   ]
  },
  {
   "cell_type": "code",
   "execution_count": 310,
   "metadata": {},
   "outputs": [],
   "source": [
    "def solution(a, b):\n",
    "    return sum([a[i]*b[i] for i in range(0,len(a)) ])"
   ]
  },
  {
   "cell_type": "code",
   "execution_count": 311,
   "metadata": {},
   "outputs": [
    {
     "data": {
      "text/plain": [
       "3"
      ]
     },
     "execution_count": 311,
     "metadata": {},
     "output_type": "execute_result"
    }
   ],
   "source": [
    "solution([1,2,3,4],[-3,-1,0,2])"
   ]
  },
  {
   "cell_type": "markdown",
   "metadata": {},
   "source": [
    "# 약수의 합"
   ]
  },
  {
   "cell_type": "code",
   "execution_count": 314,
   "metadata": {},
   "outputs": [],
   "source": [
    "def solution(n):\n",
    "    return sum([i for i in range(1,n+1) if n%i ==0])"
   ]
  },
  {
   "cell_type": "code",
   "execution_count": 315,
   "metadata": {},
   "outputs": [
    {
     "data": {
      "text/plain": [
       "28"
      ]
     },
     "execution_count": 315,
     "metadata": {},
     "output_type": "execute_result"
    }
   ],
   "source": [
    "solution(12)"
   ]
  },
  {
   "cell_type": "markdown",
   "metadata": {},
   "source": [
    "# 이상한문자만들기"
   ]
  },
  {
   "cell_type": "code",
   "execution_count": 381,
   "metadata": {},
   "outputs": [],
   "source": [
    "def solution(s):\n",
    "    s = list(s.split(' '))\n",
    "    sample, answer = '', []\n",
    "    for i in s:\n",
    "        for j in range(0,len(i)):\n",
    "            if j == 0 or j%2 == 0:\n",
    "                sample += i[j].upper()\n",
    "            else:\n",
    "                sample += i[j].lower()\n",
    "        answer.append(sample)\n",
    "        sample = ''\n",
    "    return ' '.join(answer)"
   ]
  },
  {
   "cell_type": "code",
   "execution_count": 382,
   "metadata": {},
   "outputs": [
    {
     "data": {
      "text/plain": [
       "'TrY HeLlO WoRlD'"
      ]
     },
     "execution_count": 382,
     "metadata": {},
     "output_type": "execute_result"
    }
   ],
   "source": [
    "solution(\"try hello world\")"
   ]
  },
  {
   "cell_type": "markdown",
   "metadata": {},
   "source": [
    "# 자릿수더하기"
   ]
  },
  {
   "cell_type": "code",
   "execution_count": 387,
   "metadata": {},
   "outputs": [],
   "source": [
    "def solution(n):\n",
    "    n = str(n)\n",
    "    answer = 0\n",
    "    for i in range(0,len(n)):\n",
    "        answer += int(n[i])\n",
    "    return answer"
   ]
  },
  {
   "cell_type": "code",
   "execution_count": 388,
   "metadata": {},
   "outputs": [
    {
     "data": {
      "text/plain": [
       "10"
      ]
     },
     "execution_count": 388,
     "metadata": {},
     "output_type": "execute_result"
    }
   ],
   "source": [
    "solution(1234)"
   ]
  },
  {
   "cell_type": "markdown",
   "metadata": {},
   "source": [
    "# 자연수뒤집어 배열로 만들기"
   ]
  },
  {
   "cell_type": "code",
   "execution_count": 428,
   "metadata": {},
   "outputs": [],
   "source": [
    "def solution(n):\n",
    "    n = str(n)[::-1]\n",
    "    return [int(i) for i in n]"
   ]
  },
  {
   "cell_type": "code",
   "execution_count": 433,
   "metadata": {},
   "outputs": [],
   "source": [
    "def solution(n):\n",
    "    return list(map(int,reversed(str(n))))"
   ]
  },
  {
   "cell_type": "code",
   "execution_count": 434,
   "metadata": {},
   "outputs": [
    {
     "data": {
      "text/plain": [
       "[5, 4, 3, 2, 1]"
      ]
     },
     "execution_count": 434,
     "metadata": {},
     "output_type": "execute_result"
    }
   ],
   "source": [
    "solution(12345)"
   ]
  },
  {
   "cell_type": "markdown",
   "metadata": {},
   "source": [
    "# 정수 내림차순으로 배치하기"
   ]
  },
  {
   "cell_type": "code",
   "execution_count": 442,
   "metadata": {},
   "outputs": [],
   "source": [
    "def solution(n):\n",
    "    return int(''.join(sorted(str(n),reverse=True)))"
   ]
  },
  {
   "cell_type": "code",
   "execution_count": 443,
   "metadata": {},
   "outputs": [
    {
     "data": {
      "text/plain": [
       "54321"
      ]
     },
     "execution_count": 443,
     "metadata": {},
     "output_type": "execute_result"
    }
   ],
   "source": [
    "solution(12345)"
   ]
  },
  {
   "cell_type": "code",
   "execution_count": null,
   "metadata": {},
   "outputs": [],
   "source": []
  }
 ],
 "metadata": {
  "kernelspec": {
   "display_name": "Python 3",
   "language": "python",
   "name": "python3"
  },
  "language_info": {
   "codemirror_mode": {
    "name": "ipython",
    "version": 3
   },
   "file_extension": ".py",
   "mimetype": "text/x-python",
   "name": "python",
   "nbconvert_exporter": "python",
   "pygments_lexer": "ipython3",
   "version": "3.8.5"
  }
 },
 "nbformat": 4,
 "nbformat_minor": 4
}
