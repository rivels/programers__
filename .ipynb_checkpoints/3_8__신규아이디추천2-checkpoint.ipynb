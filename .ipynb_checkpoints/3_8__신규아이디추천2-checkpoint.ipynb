{
 "cells": [
  {
   "cell_type": "code",
   "execution_count": 99,
   "metadata": {},
   "outputs": [],
   "source": [
    "import re\n",
    "def solution(new_id):\n",
    "    answer = ''\n",
    "    # 1단계 : 소문자로 변환\n",
    "    new_id = new_id.lower()\n",
    "    \n",
    "    # 2단계 : 허용된 특수문자 제외하고 모두 제거\n",
    "    new_id = re.sub('[\\~\\!\\@\\#\\$\\%\\^\\&\\*\\(\\)\\=\\+\\[\\{\\]\\}\\:\\?\\,\\<\\>\\/]', '', new_id)\n",
    "    # 3단계 : 연속된 .들 하나로 변환\n",
    "    new_id = re.sub('[.]{2,15}','.',new_id)\n",
    "    \n",
    "    # 4단계 : 처음과 끝이 . 이면 삭제\n",
    "    if new_id[0] == '.' and len(new_id) > 0:\n",
    "        while new_id[0] == '.' :\n",
    "            new_id = new_id.replace('.',\"\",1)\n",
    "            if new_id == '':\n",
    "                break\n",
    "\n",
    "    \n",
    "    if len(new_id) != 0 and new_id[-1] == '.':\n",
    "        new_id = new_id.rstrip('.')\n",
    "        \n",
    "    # 5단계 : new_id 가 빈 문자열이라면 a 삽입\n",
    "    if new_id == \"\":\n",
    "        new_id = 'a'\n",
    "    # 6단계 : new_id가 16이상의 길이를 가졌다면 15까지만 짜르고 끝에 .이 있는지 확인\n",
    "    if len(new_id) >= 16:\n",
    "        new_id = new_id[0:15]\n",
    "        if new_id[-1] == '.':\n",
    "            new_id = new_id.rstrip('.')\n",
    "                \n",
    "    # 7단계\n",
    "    if len(new_id) <= 2:\n",
    "        while True:\n",
    "            new_id = new_id + new_id[-1]\n",
    "            if len(new_id) >= 3:\n",
    "                break\n",
    "\n",
    "   \n",
    "    answer = new_id\n",
    "    return answer"
   ]
  },
  {
   "cell_type": "code",
   "execution_count": 98,
   "metadata": {},
   "outputs": [],
   "source": [
    "import re\n",
    "def solution(new_id):\n",
    "    answer = ''\n",
    "    # 1단계 : 소문자로 변환\n",
    "    new_id = new_id.lower()\n",
    "    \n",
    "    # 2단계 : 허용된 특수문자 제외하고 모두 제거\n",
    "    new_id = \"\".join(re.findall('[a-z0-9.-_]',new_id))\n",
    "#     new_id = re.sub('[\\~\\!\\@\\#\\$\\%\\^\\&\\*\\(\\)\\=\\+\\[\\{\\]\\}\\:\\?\\,\\<\\>\\/]', '', new_id)\n",
    "    # 3단계 : 연속된 .들 하나로 변환\n",
    "    new_id = re.sub('[.]{2,15}','.',new_id)\n",
    "    \n",
    "    # 4단계 : 처음과 끝이 . 이면 삭제\n",
    "    if new_id[0] == '.' and len(new_id) > 0:\n",
    "        while new_id[0] == '.' :\n",
    "            new_id = new_id.replace('.',\"\",1)\n",
    "            if new_id == '':\n",
    "                break\n",
    "\n",
    "    \n",
    "    if len(new_id) != 0 and new_id[-1] == '.':\n",
    "        new_id = new_id.rstrip('.')\n",
    "        \n",
    "    # 5단계 : new_id 가 빈 문자열이라면 a 삽입\n",
    "    if new_id == \"\":\n",
    "        new_id = 'a'\n",
    "    # 6단계 : new_id가 16이상의 길이를 가졌다면 15까지만 짜르고 끝에 .이 있는지 확인\n",
    "    if len(new_id) >= 16:\n",
    "        new_id = new_id[0:15]\n",
    "        if new_id[-1] == '.':\n",
    "            new_id = new_id.rstrip('.')\n",
    "                \n",
    "    # 7단계\n",
    "    if len(new_id) <= 2:\n",
    "        while True:\n",
    "            new_id = new_id + new_id[-1]\n",
    "            if len(new_id) >= 3:\n",
    "                break\n",
    "\n",
    "   \n",
    "    answer = new_id\n",
    "    return answer"
   ]
  },
  {
   "cell_type": "code",
   "execution_count": 102,
   "metadata": {},
   "outputs": [
    {
     "data": {
      "text/plain": [
       "'abcdefghijklmn'"
      ]
     },
     "execution_count": 102,
     "metadata": {},
     "output_type": "execute_result"
    }
   ],
   "source": [
    "solution(\"abcdefghijklmn.p\"\t)"
   ]
  },
  {
   "cell_type": "code",
   "execution_count": 96,
   "metadata": {},
   "outputs": [],
   "source": [
    "import re\n",
    "def solution(new_id):\n",
    "    new_id = new_id.lower()\n",
    "    new_id = ''.join(re.findall('[a-z0-9-._]',new_id))\n",
    "    new_id = re.sub('[.]{2,15}','.',new_id)\n",
    "    print(new_id)\n",
    "    print(type(new_id))\n",
    "    new_id = str(new_id)\n",
    "    if new_id[0] == '.':\n",
    "        while new_id[0] == '.' and new_id != '':\n",
    "            new_id = new_id.replace('.','',1)\n",
    "            print(new_id)\n",
    "    if new_id[-1] == '.' and len(new_id) > 0:\n",
    "        while new_id[-1] == '.' and new_id != '':\n",
    "            new_id = new_id.replace('.','',1)\n",
    "            \n",
    "    if len(new_id) == 0:\n",
    "        new_id = 'a'\n",
    "        \n",
    "    if len(new_id) >= 15:\n",
    "        new_id = new_id[0:15]\n",
    "        if new_id[-1] == '.':\n",
    "            while new_id[-1] == '.':\n",
    "                new_id = new_id.rstrip('.')\n",
    "    if len(new_id) <= 2:\n",
    "        while len(new_id) < 3:\n",
    "            new_id += new_id[-1]\n",
    "            print(new_id)\n",
    "    answer = new_id\n",
    "    return answer"
   ]
  },
  {
   "cell_type": "code",
   "execution_count": 103,
   "metadata": {},
   "outputs": [
    {
     "data": {
      "text/plain": [
       "'aaa'"
      ]
     },
     "execution_count": 103,
     "metadata": {},
     "output_type": "execute_result"
    }
   ],
   "source": [
    "solution(\"=.=\")"
   ]
  },
  {
   "cell_type": "code",
   "execution_count": 91,
   "metadata": {},
   "outputs": [
    {
     "name": "stdout",
     "output_type": "stream",
     "text": [
      "Ellipsis\n"
     ]
    }
   ],
   "source": [
    "print(new_id)\n",
    "# new_id = ...\n",
    "# new_id = new_id.lstrip('.')"
   ]
  },
  {
   "cell_type": "code",
   "execution_count": 104,
   "metadata": {},
   "outputs": [],
   "source": [
    "import re\n",
    "def solution(new_id):\n",
    "    answer = ''\n",
    "    # 1단계 : 소문자로 변환\n",
    "    new_id = new_id.lower()\n",
    "    \n",
    "    # 2단계 : 허용된 특수문자 제외하고 모두 제거\n",
    "    new_id = re.sub('[\\~\\!\\@\\#\\$\\%\\^\\&\\*\\(\\)\\=\\+\\[\\{\\]\\}\\:\\?\\,\\<\\>\\/]', '', new_id)\n",
    "    # 3단계 : 연속된 .들 하나로 변환\n",
    "    new_id = re.sub('[.]{2,15}','.',new_id)\n",
    "    \n",
    "    # 4단계 : 처음과 끝이 . 이면 삭제\n",
    "    if new_id[0] == '.' and len(new_id) > 0:\n",
    "        while new_id[0] == '.' :\n",
    "            new_id = new_id.replace('.',\"\",1)\n",
    "            if new_id == '':\n",
    "                break\n",
    "\n",
    "    \n",
    "    if len(new_id) != 0 and new_id[-1] == '.':\n",
    "        while new_id[-1] == '.' :\n",
    "            new_id = new_id.rstrip('.')\n",
    "        \n",
    "    # 5단계 : new_id 가 빈 문자열이라면 a 삽입\n",
    "    if new_id == \"\":\n",
    "        new_id = 'a'\n",
    "    # 6단계 : new_id가 16이상의 길이를 가졌다면 15까지만 짜르고 끝에 .이 있는지 확인\n",
    "    if len(new_id) >= 16:\n",
    "        new_id = new_id[0:15]\n",
    "        if new_id[-1] == '.':\n",
    "            while new_id[-1] == '.' :\n",
    "                new_id = new_id.rstrip('.')\n",
    "                \n",
    "    # 7단계\n",
    "    if len(new_id) <= 2:\n",
    "        while True:\n",
    "            new_id += new_id[-1]\n",
    "            if len(new_id) >= 3:\n",
    "                break\n",
    "\n",
    "   \n",
    "    answer = new_id\n",
    "    return answer"
   ]
  },
  {
   "cell_type": "code",
   "execution_count": null,
   "metadata": {},
   "outputs": [],
   "source": [
    "import re\n",
    "\n",
    "def solution(new_id):\n",
    "    answer = ''\n",
    "    # 1단계 & 2단계 : 소문자 치환\n",
    "    answer = re.sub('[^a-z\\d\\-\\_\\.]', '', new_id.lower())\n",
    "    # 3단계 : 마침표 2번 이상 > 하나로\n",
    "    answer = re.sub('\\.\\.+', '.', answer)\n",
    "    # 4단계 : 양 끝 마침표 제거\n",
    "    answer = re.sub('^\\.|\\.$', '', answer)\n",
    "    # 5단계 : 빈 문자열이면 a 대입\n",
    "    if answer == '':\n",
    "        answer = 'a'\n",
    "    # 6단계 : 길이가 16자 이상이면 1~15자만 남기기 & 맨 끝 마침표 제거\n",
    "    answer = re.sub('\\.$', '', answer[0:15])\n",
    "    # 7단계 : 길이가 3이 될 때까지 반복해서 끝에 붙이기\n",
    "    while len(answer) < 3:\n",
    "        answer += answer[-1:]\n",
    "    return answer"
   ]
  },
  {
   "cell_type": "code",
   "execution_count": null,
   "metadata": {},
   "outputs": [],
   "source": [
    "import re\n",
    "\n",
    "def solution(new_id):\n",
    "    answer = new_id\n",
    "    '''\n",
    "    1단계 : 입력받은 문자를 소문자로 바꾸고 허용된 특수문자 '-,_,.'를\n",
    "    제외하고 모두 제거\n",
    "    -> 정규표현식에서 `re.sub('[^]')` 이와같이 작성하고 대괄호 뒤에\n",
    "    ^를 붙이면 대괄호 내부의 허용된것을 제외하고 모두 제거해 줄 수 있다.\n",
    "    \n",
    "    그리고 sub에 입력되는 변수 자체에 lower()메서드를 사용함\n",
    "    '''\n",
    "    answer = re.sub('[^a-z\\d\\-\\_\\.]','',new_id.lower())\n",
    "    '''\n",
    "    2단계 : 마침표(.)가 두번 연속되는 모든 경우에서 하나의 마침표로 변환\n",
    "    -> \\를 붙이면 그 다음에 나오는 기호는 있는 그대로의 그 기호로 인식됨\n",
    "    그래서 아래와 같이 \\.+ 로 작성해주는데 +는 한번이상 횟수를 나타낸다.\n",
    "    '''\n",
    "    answer = re.sub('\\.+','.',answer)\n",
    "    '''\n",
    "    3단계 : 처음과 끝에 마침표(.)가 있으면 제거해줌\n",
    "    -> ^를 처음에 쓰고 그 다음 타겟팅할 문자를 써주면 처음에 나온 그 문자만\n",
    "    인식하게 할 수 있다.\n",
    "    반대로 $를 가장 마지막에 쓰고 그 바로앞에 원하는 문자를 작성해주면\n",
    "    동일하게 적용된다.\n",
    "    '''\n",
    "    answer = re.sub('^\\.|\\.$','',answer)\n",
    "    if answer == '':\n",
    "        answer = 'a'\n",
    "    '''\n",
    "    마지막으로 16이상의 긴 문자열은 15자리까지만 자르고 마지막이 .라면 \n",
    "    삭제해준다\n",
    "    '''\n",
    "    answer = re.sub('\\.$','',answer[0:15])\n",
    "    while len(answer) < 3:\n",
    "        answer += answer[-1]\n",
    "    return answer"
   ]
  }
 ],
 "metadata": {
  "kernelspec": {
   "display_name": "Python 3",
   "language": "python",
   "name": "python3"
  },
  "language_info": {
   "codemirror_mode": {
    "name": "ipython",
    "version": 3
   },
   "file_extension": ".py",
   "mimetype": "text/x-python",
   "name": "python",
   "nbconvert_exporter": "python",
   "pygments_lexer": "ipython3",
   "version": "3.8.5"
  }
 },
 "nbformat": 4,
 "nbformat_minor": 4
}
