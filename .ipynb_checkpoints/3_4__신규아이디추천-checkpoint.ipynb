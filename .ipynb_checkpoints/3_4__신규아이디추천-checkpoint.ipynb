{
 "cells": [
  {
   "cell_type": "code",
   "execution_count": 205,
   "metadata": {},
   "outputs": [],
   "source": [
    "import re\n",
    "def solution(new_id):\n",
    "    answer = ''\n",
    "    # 1단계 : 소문자로 변환\n",
    "    new_id = new_id.lower()\n",
    "    \n",
    "    # 2단계 : 허용된 특수문자 제외하고 모두 제거\n",
    "    new_id = re.sub('[~!@#$%^&\\*\\(\\)=\\+[\\{\\]\\}:\\?\\,\\<\\>\\/]', '', new_id)\n",
    "\n",
    "    # 3단계 : 연속된 .들 하나로 변환\n",
    "    new_id = re.sub('[.]{2,15}','.',new_id)\n",
    "    \n",
    "    # 4단계 : 처음과 끝이 . 이면 삭제\n",
    "    if new_id[0] == '.' and len(new_id) > 0:\n",
    "        while new_id[0] == '.' :\n",
    "            new_id = new_id.replace('.',\"\",1)\n",
    "            if new_id == '':\n",
    "                break\n",
    "\n",
    "    \n",
    "    if len(new_id) != 0 and new_id[-1] == '.':\n",
    "        new_id = new_id.rstrip('.')\n",
    "        \n",
    "    # 5단계\n",
    "    if new_id == \"\":\n",
    "        new_id = 'a'\n",
    "    # 6단계\n",
    "    if len(new_id) >= 16:\n",
    "        new_id = new_id[0:15]\n",
    "        if new_id[-1] == '.':\n",
    "            new_id = new_id.rstrip('.')\n",
    "                \n",
    "    # 7단계\n",
    "    if len(new_id) <= 2:\n",
    "        while True:\n",
    "            new_id = new_id + new_id[-1]\n",
    "            if len(new_id) >= 3:\n",
    "                break\n",
    "\n",
    "   \n",
    "    answer = new_id\n",
    "    return answer"
   ]
  },
  {
   "cell_type": "code",
   "execution_count": 208,
   "metadata": {
    "scrolled": true
   },
   "outputs": [
    {
     "name": "stdout",
     "output_type": "stream",
     "text": [
      "\n"
     ]
    },
    {
     "ename": "IndexError",
     "evalue": "string index out of range",
     "output_type": "error",
     "traceback": [
      "\u001b[0;31m---------------------------------------------------------------------------\u001b[0m",
      "\u001b[0;31mIndexError\u001b[0m                                Traceback (most recent call last)",
      "\u001b[0;32m<ipython-input-208-d100b548c3d2>\u001b[0m in \u001b[0;36m<module>\u001b[0;34m\u001b[0m\n\u001b[0;32m----> 1\u001b[0;31m \u001b[0msolution\u001b[0m\u001b[0;34m(\u001b[0m\u001b[0;34m\"!@$\"\u001b[0m\u001b[0;34m)\u001b[0m\u001b[0;34m\u001b[0m\u001b[0;34m\u001b[0m\u001b[0m\n\u001b[0m",
      "\u001b[0;32m<ipython-input-205-7ef74c4519e6>\u001b[0m in \u001b[0;36msolution\u001b[0;34m(new_id)\u001b[0m\n\u001b[1;32m     12\u001b[0m \u001b[0;34m\u001b[0m\u001b[0m\n\u001b[1;32m     13\u001b[0m     \u001b[0;31m# 4단계 : 처음과 끝이 . 이면 삭제\u001b[0m\u001b[0;34m\u001b[0m\u001b[0;34m\u001b[0m\u001b[0;34m\u001b[0m\u001b[0m\n\u001b[0;32m---> 14\u001b[0;31m     \u001b[0;32mif\u001b[0m \u001b[0mnew_id\u001b[0m\u001b[0;34m[\u001b[0m\u001b[0;36m0\u001b[0m\u001b[0;34m]\u001b[0m \u001b[0;34m==\u001b[0m \u001b[0;34m'.'\u001b[0m \u001b[0;32mand\u001b[0m \u001b[0mlen\u001b[0m\u001b[0;34m(\u001b[0m\u001b[0mnew_id\u001b[0m\u001b[0;34m)\u001b[0m \u001b[0;34m>\u001b[0m \u001b[0;36m0\u001b[0m\u001b[0;34m:\u001b[0m\u001b[0;34m\u001b[0m\u001b[0;34m\u001b[0m\u001b[0m\n\u001b[0m\u001b[1;32m     15\u001b[0m         \u001b[0;32mwhile\u001b[0m \u001b[0mnew_id\u001b[0m\u001b[0;34m[\u001b[0m\u001b[0;36m0\u001b[0m\u001b[0;34m]\u001b[0m \u001b[0;34m==\u001b[0m \u001b[0;34m'.'\u001b[0m \u001b[0;34m:\u001b[0m\u001b[0;34m\u001b[0m\u001b[0;34m\u001b[0m\u001b[0m\n\u001b[1;32m     16\u001b[0m             \u001b[0mnew_id\u001b[0m \u001b[0;34m=\u001b[0m \u001b[0mnew_id\u001b[0m\u001b[0;34m.\u001b[0m\u001b[0mreplace\u001b[0m\u001b[0;34m(\u001b[0m\u001b[0;34m'.'\u001b[0m\u001b[0;34m,\u001b[0m\u001b[0;34m\"\"\u001b[0m\u001b[0;34m,\u001b[0m\u001b[0;36m1\u001b[0m\u001b[0;34m)\u001b[0m\u001b[0;34m\u001b[0m\u001b[0;34m\u001b[0m\u001b[0m\n",
      "\u001b[0;31mIndexError\u001b[0m: string index out of range"
     ]
    }
   ],
   "source": [
    "solution(\"!@$\")"
   ]
  },
  {
   "cell_type": "code",
   "execution_count": 203,
   "metadata": {},
   "outputs": [],
   "source": [
    "import re\n",
    "def solution(new_id):\n",
    "    answer = ''\n",
    "    # 1단계 : 소문자로 변환\n",
    "    new_id = new_id.lower()\n",
    "    \n",
    "    # 2단계 : 허용된 특수문자 제외하고 모두 제거\n",
    "    new_id = re.sub('[~!@#$%^&\\*\\(\\)=\\+[\\{\\]\\}:\\?\\,\\<\\>\\/]', '', new_id)\n",
    "    print(new_id)\n",
    "    # 5단계\n",
    "    if new_id == \"\":\n",
    "        new_id = 'a'\n",
    "    # 3단계 : 연속된 .들 하나로 변환\n",
    "    new_id = re.sub('[.]{2,15}','.',new_id)\n",
    "    \n",
    "    # 4단계 : 처음과 끝이 . 이면 삭제\n",
    "    if new_id[0] == '.':\n",
    "        while new_id[0] == '.' :\n",
    "            new_id = new_id.replace('.',\"\",1)\n",
    "            if new_id == '':\n",
    "                break\n",
    "\n",
    "    \n",
    "    if len(new_id) != 0 and new_id[-1] == '.':\n",
    "        new_id = new_id.rstrip('.')\n",
    "        \n",
    "    # 6단계\n",
    "    if len(new_id) >= 16:\n",
    "        new_id = new_id[0:15]\n",
    "        if new_id[-1] == '.':\n",
    "            new_id = new_id.rstrip('.')\n",
    "                \n",
    "    # 7단계\n",
    "    if len(new_id) <= 2:\n",
    "        while True:\n",
    "            new_id = new_id + new_id[-1]\n",
    "            if len(new_id) >= 3:\n",
    "                break\n",
    "\n",
    "   \n",
    "    answer = new_id\n",
    "    return answer"
   ]
  },
  {
   "cell_type": "code",
   "execution_count": 228,
   "metadata": {},
   "outputs": [
    {
     "name": "stdout",
     "output_type": "stream",
     "text": [
      "0001a..d20\n"
     ]
    },
    {
     "data": {
      "text/plain": [
       "'0001a.d20'"
      ]
     },
     "execution_count": 228,
     "metadata": {},
     "output_type": "execute_result"
    }
   ],
   "source": [
    "solution(\"0001a..d20\")"
   ]
  },
  {
   "cell_type": "code",
   "execution_count": 164,
   "metadata": {},
   "outputs": [
    {
     "data": {
      "text/plain": [
       "'.'"
      ]
     },
     "execution_count": 164,
     "metadata": {},
     "output_type": "execute_result"
    }
   ],
   "source": [
    "len(\"abcdefghijklmn.p\")\n",
    "z = \"abcdefghijklmn.p\"\n",
    "z = z[0:15]\n",
    "z = z[-1]\n",
    "z"
   ]
  },
  {
   "cell_type": "code",
   "execution_count": 111,
   "metadata": {},
   "outputs": [
    {
     "data": {
      "text/plain": [
       "'z--'"
      ]
     },
     "execution_count": 111,
     "metadata": {},
     "output_type": "execute_result"
    }
   ],
   "source": [
    "solution(\"z-+.^.\")"
   ]
  },
  {
   "cell_type": "code",
   "execution_count": null,
   "metadata": {},
   "outputs": [],
   "source": [
    "A = 'abcd'"
   ]
  },
  {
   "cell_type": "code",
   "execution_count": null,
   "metadata": {},
   "outputs": [],
   "source": [
    "A.lstrip('a')"
   ]
  },
  {
   "cell_type": "code",
   "execution_count": null,
   "metadata": {},
   "outputs": [],
   "source": [
    "A.replace(\"a\",\"\")"
   ]
  },
  {
   "cell_type": "code",
   "execution_count": null,
   "metadata": {},
   "outputs": [],
   "source": [
    "q = 'aaaa-_.~!@#$%^&*()=+[{]}:?,<>/'"
   ]
  },
  {
   "cell_type": "code",
   "execution_count": null,
   "metadata": {},
   "outputs": [],
   "source": [
    "q"
   ]
  },
  {
   "cell_type": "code",
   "execution_count": null,
   "metadata": {},
   "outputs": [],
   "source": [
    "q = re.sub('[-_.~!@#$%^&*()=+[{]}:?,<>/]','',q)"
   ]
  },
  {
   "cell_type": "code",
   "execution_count": null,
   "metadata": {},
   "outputs": [],
   "source": [
    "q"
   ]
  },
  {
   "cell_type": "code",
   "execution_count": null,
   "metadata": {},
   "outputs": [],
   "source": [
    "import re\n",
    " \n",
    "def cleanText(readData):\n",
    " \n",
    "    #텍스트에 포함되어 있는 특수 문자 제거\n",
    " \n",
    "    text = re.sub('[-_.~!@#$%^&*()=+[{]}:?,<>/]', '', readData)\n",
    " \n",
    "    return text\n",
    " \n",
    "cleanText(q)\n"
   ]
  },
  {
   "cell_type": "code",
   "execution_count": null,
   "metadata": {},
   "outputs": [],
   "source": [
    "q"
   ]
  },
  {
   "cell_type": "code",
   "execution_count": null,
   "metadata": {},
   "outputs": [],
   "source": [
    "re.findall('[-_.~!@#$%^&*()=+[{]]',q)"
   ]
  },
  {
   "cell_type": "code",
   "execution_count": null,
   "metadata": {},
   "outputs": [],
   "source": [
    "re.sub('[~!@#$%^&*\\(\\)=+\\[\\{\\]\\}:?,<\\>/]','',q)"
   ]
  },
  {
   "cell_type": "code",
   "execution_count": null,
   "metadata": {},
   "outputs": [],
   "source": []
  },
  {
   "cell_type": "code",
   "execution_count": 78,
   "metadata": {},
   "outputs": [],
   "source": [
    "q = '....aa'"
   ]
  },
  {
   "cell_type": "code",
   "execution_count": 79,
   "metadata": {},
   "outputs": [
    {
     "data": {
      "text/plain": [
       "'....'"
      ]
     },
     "execution_count": 79,
     "metadata": {},
     "output_type": "execute_result"
    }
   ],
   "source": [
    "q.rstrip('a')"
   ]
  },
  {
   "cell_type": "code",
   "execution_count": 80,
   "metadata": {},
   "outputs": [
    {
     "data": {
      "text/plain": [
       "'....aa'"
      ]
     },
     "execution_count": 80,
     "metadata": {},
     "output_type": "execute_result"
    }
   ],
   "source": [
    "q"
   ]
  },
  {
   "cell_type": "code",
   "execution_count": 65,
   "metadata": {},
   "outputs": [
    {
     "data": {
      "text/plain": [
       "'...'"
      ]
     },
     "execution_count": 65,
     "metadata": {},
     "output_type": "execute_result"
    }
   ],
   "source": [
    "q.replace('.','',1)"
   ]
  },
  {
   "cell_type": "code",
   "execution_count": 66,
   "metadata": {},
   "outputs": [
    {
     "data": {
      "text/plain": [
       "'....'"
      ]
     },
     "execution_count": 66,
     "metadata": {},
     "output_type": "execute_result"
    }
   ],
   "source": [
    "q"
   ]
  },
  {
   "cell_type": "code",
   "execution_count": null,
   "metadata": {},
   "outputs": [],
   "source": []
  }
 ],
 "metadata": {
  "kernelspec": {
   "display_name": "Python 3",
   "language": "python",
   "name": "python3"
  },
  "language_info": {
   "codemirror_mode": {
    "name": "ipython",
    "version": 3
   },
   "file_extension": ".py",
   "mimetype": "text/x-python",
   "name": "python",
   "nbconvert_exporter": "python",
   "pygments_lexer": "ipython3",
   "version": "3.8.5"
  }
 },
 "nbformat": 4,
 "nbformat_minor": 4
}
