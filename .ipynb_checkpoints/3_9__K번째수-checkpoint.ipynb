{
 "cells": [
  {
   "cell_type": "code",
   "execution_count": 82,
   "metadata": {},
   "outputs": [],
   "source": [
    "'''\n",
    "주어진 리스트를 슬라이싱해서 인덱싱 해서 출력하는 문제\n",
    "매우 쉬움\n",
    "'''\n",
    "def solution(array, commands):\n",
    "    answer, sorting = [], []\n",
    "    for i in commands:\n",
    "        print(i,'i')\n",
    "        print('---')\n",
    "        print(array[i[0]-1:i[1]],'array')\n",
    "        sorting = sorted(array[i[0]-1:i[1]], reverse=False)\n",
    "        answer.append(sorting[i[2]-1])\n",
    "        print(array[i[0]-1:i[1]],'sorted array')\n",
    "        \n",
    "        print('=================')\n",
    "        \n",
    "        \n",
    "        \n",
    "#         answer.append((array[array[i[0]-1]:array[i[1]-1]])\n",
    "#         array[array[i[0]-1]:array[i[1]-1]][i[2]]\n",
    "    return answer"
   ]
  },
  {
   "cell_type": "code",
   "execution_count": 84,
   "metadata": {},
   "outputs": [],
   "source": [
    "def solution(array, commands):\n",
    "    answer, sorting = [], []\n",
    "    for i in commands:\n",
    "        sorting = sorted(array[i[0]-1:i[1]], reverse=False)\n",
    "        answer.append(sorting[i[2]-1])\n",
    "    return answer"
   ]
  },
  {
   "cell_type": "code",
   "execution_count": 83,
   "metadata": {},
   "outputs": [
    {
     "name": "stdout",
     "output_type": "stream",
     "text": [
      "[2, 5, 3] i\n",
      "---\n",
      "[5, 2, 6, 3] array\n",
      "[5, 2, 6, 3] sorted array\n",
      "=================\n",
      "[4, 4, 1] i\n",
      "---\n",
      "[6] array\n",
      "[6] sorted array\n",
      "=================\n",
      "[1, 7, 3] i\n",
      "---\n",
      "[1, 5, 2, 6, 3, 7, 4] array\n",
      "[1, 5, 2, 6, 3, 7, 4] sorted array\n",
      "=================\n"
     ]
    },
    {
     "data": {
      "text/plain": [
       "[5, 6, 3]"
      ]
     },
     "execution_count": 83,
     "metadata": {},
     "output_type": "execute_result"
    }
   ],
   "source": [
    "solution([1, 5, 2, 6, 3, 7, 4],\n",
    "         [[2, 5, 3], [4, 4, 1], [1, 7, 3]])"
   ]
  },
  {
   "cell_type": "code",
   "execution_count": null,
   "metadata": {},
   "outputs": [],
   "source": []
  }
 ],
 "metadata": {
  "kernelspec": {
   "display_name": "Python 3",
   "language": "python",
   "name": "python3"
  },
  "language_info": {
   "codemirror_mode": {
    "name": "ipython",
    "version": 3
   },
   "file_extension": ".py",
   "mimetype": "text/x-python",
   "name": "python",
   "nbconvert_exporter": "python",
   "pygments_lexer": "ipython3",
   "version": "3.8.5"
  }
 },
 "nbformat": 4,
 "nbformat_minor": 4
}
