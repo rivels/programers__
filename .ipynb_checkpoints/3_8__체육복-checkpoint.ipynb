{
 "cells": [
  {
   "cell_type": "code",
   "execution_count": 298,
   "metadata": {},
   "outputs": [],
   "source": [
    "def solution(n, lost, reserve):\n",
    "    reserve = sorted(reserve)\n",
    "    lost = sorted(lost)\n",
    "    n = n - len(lost)\n",
    "    for i in reserve:\n",
    "        if i in lost:\n",
    "            print(i,'번은 지꺼 입음')\n",
    "            lost.remove(i)\n",
    "            n += 1\n",
    "        elif i - 1 != 0 and i - 1 in lost:\n",
    "            print(i,'번이 빌려줌')\n",
    "            lost.remove(i-1)\n",
    "            n += 1\n",
    "        elif i + 1 in lost:\n",
    "            print(i,'번이 빌려줌')\n",
    "            lost.remove(i+1)\n",
    "            n += 1\n",
    "    return n"
   ]
  },
  {
   "cell_type": "code",
   "execution_count": 296,
   "metadata": {},
   "outputs": [],
   "source": [
    "def solution(n, lost, reserve):\n",
    "    reserve = sorted(reserve)\n",
    "    lost = sorted(lost)\n",
    "    n = n - len(lost)\n",
    "    for i in reserve:\n",
    "        if i in lost:\n",
    "            print(i,'번은 지꺼 입음')\n",
    "            lost.remove(i)\n",
    "            n += 1\n",
    "    for j in lost:\n",
    "        if j - 1 != 0 and j - 1 in reserve:\n",
    "            print(j,'번이 빌려줌')\n",
    "            reserve.remove(j-1)\n",
    "            n += 1\n",
    "        elif j + 1 in reserve:\n",
    "            print(j,'번이 빌려줌')\n",
    "            reserve.remove(j+1)\n",
    "            n += 1\n",
    "    return n"
   ]
  },
  {
   "cell_type": "code",
   "execution_count": 299,
   "metadata": {},
   "outputs": [
    {
     "data": {
      "text/plain": [
       "0"
      ]
     },
     "execution_count": 299,
     "metadata": {},
     "output_type": "execute_result"
    }
   ],
   "source": [
    "solution(3, [1,2,3], [1,2,3])"
   ]
  },
  {
   "cell_type": "code",
   "execution_count": 290,
   "metadata": {},
   "outputs": [
    {
     "name": "stdout",
     "output_type": "stream",
     "text": [
      "[3] [2, 4]\n",
      "3 번이 빌려줌\n"
     ]
    },
    {
     "data": {
      "text/plain": [
       "4"
      ]
     },
     "execution_count": 290,
     "metadata": {},
     "output_type": "execute_result"
    }
   ],
   "source": [
    "solution(5,[2,4],[3])"
   ]
  },
  {
   "cell_type": "code",
   "execution_count": 18,
   "metadata": {},
   "outputs": [
    {
     "data": {
      "text/plain": [
       "2"
      ]
     },
     "execution_count": 18,
     "metadata": {},
     "output_type": "execute_result"
    }
   ],
   "source": [
    "solution(3,[3],[1])"
   ]
  },
  {
   "cell_type": "code",
   "execution_count": 64,
   "metadata": {},
   "outputs": [],
   "source": [
    "Q = ['q','w','e']\n",
    "Q.remove('w')"
   ]
  },
  {
   "cell_type": "code",
   "execution_count": 65,
   "metadata": {},
   "outputs": [
    {
     "data": {
      "text/plain": [
       "['q', 'e']"
      ]
     },
     "execution_count": 65,
     "metadata": {},
     "output_type": "execute_result"
    }
   ],
   "source": [
    "Q"
   ]
  },
  {
   "cell_type": "code",
   "execution_count": 94,
   "metadata": {},
   "outputs": [],
   "source": [
    "def solution(n, lost, reserve):\n",
    "    n = n - len(lost)\n",
    "    for i in reserve:\n",
    "        print(i)\n",
    "        print(reserve)\n",
    "        if i in lost:\n",
    "            print(i,'가 삭제됨')\n",
    "            reserve.remove(i)\n",
    "            n += 1\n",
    "    return n"
   ]
  },
  {
   "cell_type": "code",
   "execution_count": 95,
   "metadata": {},
   "outputs": [
    {
     "name": "stdout",
     "output_type": "stream",
     "text": [
      "1\n",
      "[1, 3, 5]\n",
      "1 가 삭제됨\n",
      "5\n",
      "[3, 5]\n"
     ]
    },
    {
     "data": {
      "text/plain": [
       "3"
      ]
     },
     "execution_count": 95,
     "metadata": {},
     "output_type": "execute_result"
    }
   ],
   "source": [
    "solution(5,[1,2,4],[1,3,5])"
   ]
  },
  {
   "cell_type": "code",
   "execution_count": null,
   "metadata": {},
   "outputs": [],
   "source": [
    "def solution(n, lost, reserve):\n",
    "    answer = 0\n",
    "    return answer"
   ]
  },
  {
   "cell_type": "code",
   "execution_count": 116,
   "metadata": {},
   "outputs": [
    {
     "name": "stdout",
     "output_type": "stream",
     "text": [
      "1 1\n",
      "None\n",
      "[2, 3, 4, 5, 6, 7, 8, 9]\n",
      "1 3\n",
      "None\n",
      "[2, 4, 5, 6, 7, 8, 9]\n",
      "1 5\n",
      "None\n",
      "[2, 4, 6, 7, 8, 9]\n",
      "1 7\n",
      "None\n",
      "[2, 4, 6, 8, 9]\n",
      "1 9\n",
      "None\n",
      "[2, 4, 6, 8]\n"
     ]
    }
   ],
   "source": [
    "T = [1,2,3,4,5,6,7,8,9]\n",
    "for i in T:\n",
    "    print(\"1\",i)\n",
    "    a = T.remove(i)\n",
    "    print(a)\n",
    "    print(T)"
   ]
  },
  {
   "cell_type": "code",
   "execution_count": 120,
   "metadata": {},
   "outputs": [
    {
     "ename": "TypeError",
     "evalue": "'list' object is not callable",
     "output_type": "error",
     "traceback": [
      "\u001b[0;31m---------------------------------------------------------------------------\u001b[0m",
      "\u001b[0;31mTypeError\u001b[0m                                 Traceback (most recent call last)",
      "\u001b[0;32m<ipython-input-120-04be72b98e92>\u001b[0m in \u001b[0;36m<module>\u001b[0;34m\u001b[0m\n\u001b[0;32m----> 1\u001b[0;31m \u001b[0mT\u001b[0m\u001b[0;34m(\u001b[0m\u001b[0;36m1\u001b[0m\u001b[0;34m)\u001b[0m\u001b[0;34m\u001b[0m\u001b[0;34m\u001b[0m\u001b[0m\n\u001b[0m",
      "\u001b[0;31mTypeError\u001b[0m: 'list' object is not callable"
     ]
    }
   ],
   "source": []
  },
  {
   "cell_type": "code",
   "execution_count": 182,
   "metadata": {},
   "outputs": [],
   "source": [
    "def solution(n, lost, reserve):\n",
    "    reserve = sorted(reserve)\n",
    "    lost = sorted(lost)\n",
    "    n = n - len(lost)\n",
    "    for i in range(0,len(reserve)):\n",
    "        if reserve[i] in lost:\n",
    "            lost.remove(reserve[i])\n",
    "            reserve[i] = ''\n",
    "            n += 1\n",
    "    for j in lost:\n",
    "        if j + 1 in reserve:\n",
    "            n += 1\n",
    "        elif j - 1 != 0 and j - 1 in reserve:\n",
    "            n += 1\n",
    "    return n"
   ]
  },
  {
   "cell_type": "code",
   "execution_count": 183,
   "metadata": {},
   "outputs": [
    {
     "data": {
      "text/plain": [
       "7"
      ]
     },
     "execution_count": 183,
     "metadata": {},
     "output_type": "execute_result"
    }
   ],
   "source": [
    "solution(10,[5,1,2,7,9,3],[2,5,4,3])"
   ]
  },
  {
   "cell_type": "code",
   "execution_count": null,
   "metadata": {},
   "outputs": [],
   "source": [
    "5 1 2 7 9 3\n",
    "5   2     3  4"
   ]
  }
 ],
 "metadata": {
  "kernelspec": {
   "display_name": "Python 3",
   "language": "python",
   "name": "python3"
  },
  "language_info": {
   "codemirror_mode": {
    "name": "ipython",
    "version": 3
   },
   "file_extension": ".py",
   "mimetype": "text/x-python",
   "name": "python",
   "nbconvert_exporter": "python",
   "pygments_lexer": "ipython3",
   "version": "3.8.5"
  }
 },
 "nbformat": 4,
 "nbformat_minor": 4
}
