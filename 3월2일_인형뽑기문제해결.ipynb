{
 "cells": [
  {
   "cell_type": "code",
   "execution_count": 72,
   "metadata": {},
   "outputs": [],
   "source": [
    "def solution(board, moves):\n",
    "    stack = []\n",
    "    answer, count = 0,1\n",
    "    for i in moves: # i는 int\n",
    "        for j in board:\n",
    "            if j[i-1] == 0:\n",
    "                pass\n",
    "            else:\n",
    "                stack.append(j[i-1])\n",
    "                j[i-1] = 0\n",
    "                break\n",
    "    print('최종스택 = {}'.format(stack))\n",
    "    for k in range(1,len(stack)):\n",
    "        print('현재스택 = {}'.format(stack))\n",
    "        print('{} 과 {} 의 비교'.format(stack[-k],stack[-k-1]))\n",
    "        if stack[-k] == stack[-k-1]:\n",
    "            print('삭제된 숫자 {} {}'.format(stack[-k],stack[-k]))\n",
    "            del stack[-k]\n",
    "            del stack[-k]\n",
    "            answer += 2\n",
    "            print(k)\n",
    "        else:\n",
    "            pass\n",
    "        \n",
    "\n",
    "    return answer"
   ]
  },
  {
   "cell_type": "code",
   "execution_count": 77,
   "metadata": {},
   "outputs": [
    {
     "name": "stdout",
     "output_type": "stream",
     "text": [
      "최종스택 = [4, 3, 1, 1, 3, 2, 4]\n",
      "현재스택 = [4, 3, 1, 1, 3, 2, 4]\n",
      "4 과 4 의 비교\n",
      "삭제된 숫자 4 4\n",
      "0\n",
      "현재스택 = [1, 1, 3, 2, 4]\n",
      "1 과 4 의 비교\n",
      "현재스택 = [1, 1, 3, 2, 4]\n",
      "4 과 2 의 비교\n",
      "현재스택 = [1, 1, 3, 2, 4]\n",
      "2 과 3 의 비교\n",
      "현재스택 = [1, 1, 3, 2, 4]\n",
      "3 과 1 의 비교\n",
      "현재스택 = [1, 1, 3, 2, 4]\n",
      "1 과 1 의 비교\n",
      "삭제된 숫자 1 1\n",
      "4\n",
      "현재스택 = [3, 2, 4]\n",
      "3 과 4 의 비교\n",
      "현재스택 = [3, 2, 4]\n",
      "4 과 2 의 비교\n",
      "현재스택 = [3, 2, 4]\n",
      "2 과 3 의 비교\n",
      "현재스택 = [3, 2, 4]\n"
     ]
    },
    {
     "ename": "IndexError",
     "evalue": "list index out of range",
     "output_type": "error",
     "traceback": [
      "\u001b[0;31m---------------------------------------------------------------------------\u001b[0m",
      "\u001b[0;31mIndexError\u001b[0m                                Traceback (most recent call last)",
      "\u001b[0;32m<ipython-input-77-eb2c9ac17cc1>\u001b[0m in \u001b[0;36m<module>\u001b[0;34m\u001b[0m\n\u001b[0;32m----> 1\u001b[0;31m solution([[0, 0, 0, 0, 0],\n\u001b[0m\u001b[1;32m      2\u001b[0m           \u001b[0;34m[\u001b[0m\u001b[0;36m0\u001b[0m\u001b[0;34m,\u001b[0m \u001b[0;36m0\u001b[0m\u001b[0;34m,\u001b[0m \u001b[0;36m1\u001b[0m\u001b[0;34m,\u001b[0m \u001b[0;36m0\u001b[0m\u001b[0;34m,\u001b[0m \u001b[0;36m3\u001b[0m\u001b[0;34m]\u001b[0m\u001b[0;34m,\u001b[0m\u001b[0;34m\u001b[0m\u001b[0;34m\u001b[0m\u001b[0m\n\u001b[1;32m      3\u001b[0m           \u001b[0;34m[\u001b[0m\u001b[0;36m0\u001b[0m\u001b[0;34m,\u001b[0m \u001b[0;36m2\u001b[0m\u001b[0;34m,\u001b[0m \u001b[0;36m5\u001b[0m\u001b[0;34m,\u001b[0m \u001b[0;36m0\u001b[0m\u001b[0;34m,\u001b[0m \u001b[0;36m1\u001b[0m\u001b[0;34m]\u001b[0m\u001b[0;34m,\u001b[0m\u001b[0;34m\u001b[0m\u001b[0;34m\u001b[0m\u001b[0m\n\u001b[1;32m      4\u001b[0m           \u001b[0;34m[\u001b[0m\u001b[0;36m4\u001b[0m\u001b[0;34m,\u001b[0m \u001b[0;36m2\u001b[0m\u001b[0;34m,\u001b[0m \u001b[0;36m4\u001b[0m\u001b[0;34m,\u001b[0m \u001b[0;36m4\u001b[0m\u001b[0;34m,\u001b[0m \u001b[0;36m2\u001b[0m\u001b[0;34m]\u001b[0m\u001b[0;34m,\u001b[0m\u001b[0;34m\u001b[0m\u001b[0;34m\u001b[0m\u001b[0m\n\u001b[1;32m      5\u001b[0m           [3, 5, 1, 3, 1]],\n",
      "\u001b[0;32m<ipython-input-76-659e442b1696>\u001b[0m in \u001b[0;36msolution\u001b[0;34m(board, moves)\u001b[0m\n\u001b[1;32m     13\u001b[0m     \u001b[0;32mwhile\u001b[0m \u001b[0;32mTrue\u001b[0m\u001b[0;34m:\u001b[0m\u001b[0;34m\u001b[0m\u001b[0;34m\u001b[0m\u001b[0m\n\u001b[1;32m     14\u001b[0m         \u001b[0mprint\u001b[0m\u001b[0;34m(\u001b[0m\u001b[0;34m'현재스택 = {}'\u001b[0m\u001b[0;34m.\u001b[0m\u001b[0mformat\u001b[0m\u001b[0;34m(\u001b[0m\u001b[0mstack\u001b[0m\u001b[0;34m)\u001b[0m\u001b[0;34m)\u001b[0m\u001b[0;34m\u001b[0m\u001b[0;34m\u001b[0m\u001b[0m\n\u001b[0;32m---> 15\u001b[0;31m         \u001b[0mprint\u001b[0m\u001b[0;34m(\u001b[0m\u001b[0;34m'{} 과 {} 의 비교'\u001b[0m\u001b[0;34m.\u001b[0m\u001b[0mformat\u001b[0m\u001b[0;34m(\u001b[0m\u001b[0mstack\u001b[0m\u001b[0;34m[\u001b[0m\u001b[0;34m-\u001b[0m\u001b[0mcount\u001b[0m\u001b[0;34m]\u001b[0m\u001b[0;34m,\u001b[0m\u001b[0mstack\u001b[0m\u001b[0;34m[\u001b[0m\u001b[0;34m-\u001b[0m\u001b[0mcount\u001b[0m\u001b[0;34m-\u001b[0m\u001b[0;36m1\u001b[0m\u001b[0;34m]\u001b[0m\u001b[0;34m)\u001b[0m\u001b[0;34m)\u001b[0m\u001b[0;34m\u001b[0m\u001b[0;34m\u001b[0m\u001b[0m\n\u001b[0m\u001b[1;32m     16\u001b[0m         \u001b[0;32mif\u001b[0m \u001b[0mstack\u001b[0m\u001b[0;34m[\u001b[0m\u001b[0;34m-\u001b[0m\u001b[0mcount\u001b[0m\u001b[0;34m]\u001b[0m \u001b[0;34m==\u001b[0m \u001b[0mstack\u001b[0m\u001b[0;34m[\u001b[0m\u001b[0;34m-\u001b[0m\u001b[0mcount\u001b[0m\u001b[0;34m-\u001b[0m\u001b[0;36m1\u001b[0m\u001b[0;34m]\u001b[0m\u001b[0;34m:\u001b[0m\u001b[0;34m\u001b[0m\u001b[0;34m\u001b[0m\u001b[0m\n\u001b[1;32m     17\u001b[0m             \u001b[0mprint\u001b[0m\u001b[0;34m(\u001b[0m\u001b[0;34m'삭제된 숫자 {} {}'\u001b[0m\u001b[0;34m.\u001b[0m\u001b[0mformat\u001b[0m\u001b[0;34m(\u001b[0m\u001b[0mstack\u001b[0m\u001b[0;34m[\u001b[0m\u001b[0;34m-\u001b[0m\u001b[0mcount\u001b[0m\u001b[0;34m]\u001b[0m\u001b[0;34m,\u001b[0m\u001b[0mstack\u001b[0m\u001b[0;34m[\u001b[0m\u001b[0;34m-\u001b[0m\u001b[0mcount\u001b[0m\u001b[0;34m]\u001b[0m\u001b[0;34m)\u001b[0m\u001b[0;34m)\u001b[0m\u001b[0;34m\u001b[0m\u001b[0;34m\u001b[0m\u001b[0m\n",
      "\u001b[0;31mIndexError\u001b[0m: list index out of range"
     ]
    }
   ],
   "source": [
    "solution([[0, 0, 0, 0, 0],\n",
    "          [0, 0, 1, 0, 3],\n",
    "          [0, 2, 5, 0, 1],\n",
    "          [4, 2, 4, 4, 2],\n",
    "          [3, 5, 1, 3, 1]],\n",
    "         [1, 5, 3, 5, 1, 2, 1, 4])"
   ]
  },
  {
   "cell_type": "code",
   "execution_count": 61,
   "metadata": {},
   "outputs": [],
   "source": [
    "T = [4, 3, 1, 1, 3, 2, 4]"
   ]
  },
  {
   "cell_type": "code",
   "execution_count": 63,
   "metadata": {},
   "outputs": [],
   "source": [
    "del T[-4]"
   ]
  },
  {
   "cell_type": "code",
   "execution_count": 64,
   "metadata": {},
   "outputs": [
    {
     "data": {
      "text/plain": [
       "[4, 3, 3, 2, 4]"
      ]
     },
     "execution_count": 64,
     "metadata": {},
     "output_type": "execute_result"
    }
   ],
   "source": [
    "T"
   ]
  },
  {
   "cell_type": "code",
   "execution_count": 37,
   "metadata": {},
   "outputs": [
    {
     "data": {
      "text/plain": [
       "2"
      ]
     },
     "execution_count": 37,
     "metadata": {},
     "output_type": "execute_result"
    }
   ],
   "source": [
    "T[-2]"
   ]
  },
  {
   "cell_type": "code",
   "execution_count": 29,
   "metadata": {},
   "outputs": [
    {
     "name": "stdout",
     "output_type": "stream",
     "text": [
      "Different\n"
     ]
    }
   ],
   "source": [
    "if T[-1:] == T[-2:-1]:\n",
    "    print('Equal')\n",
    "    pass\n",
    "else:\n",
    "    print('Different')"
   ]
  },
  {
   "cell_type": "code",
   "execution_count": 85,
   "metadata": {},
   "outputs": [],
   "source": [
    "def solution(board, moves):\n",
    "    stack = []\n",
    "    answer, count = 0,1\n",
    "    for i in moves: # i는 int\n",
    "        for j in board:\n",
    "            if j[i-1] == 0:\n",
    "                pass\n",
    "            else:\n",
    "                stack.append(j[i-1])\n",
    "                j[i-1] = 0\n",
    "                break\n",
    "    print('최종스택 = {}'.format(stack))\n",
    "    while True:\n",
    "        print('현재스택 = {}'.format(stack))\n",
    "        print('{} 과 {} 의 비교'.format(stack[-count],stack[-count-1]))\n",
    "        if stack[-count] == stack[-count-1]:\n",
    "            print('삭제된 숫자 {} {}'.format(stack[-count],stack[-count]))\n",
    "            del stack[-count]\n",
    "            del stack[-count]\n",
    "            answer += 2\n",
    "            count = 1\n",
    "        else:\n",
    "            count += 1\n",
    "        if count > len(stack)-1:\n",
    "            break\n",
    "        \n",
    "\n",
    "    return answer"
   ]
  },
  {
   "cell_type": "code",
   "execution_count": 91,
   "metadata": {},
   "outputs": [
    {
     "data": {
      "text/plain": [
       "4"
      ]
     },
     "execution_count": 91,
     "metadata": {},
     "output_type": "execute_result"
    }
   ],
   "source": [
    "solution([[0, 0, 0, 0, 0],\n",
    "          [0, 0, 1, 0, 3],\n",
    "          [0, 2, 5, 0, 1],\n",
    "          [4, 2, 4, 4, 2],\n",
    "          [3, 5, 1, 3, 1]],\n",
    "         [1, 5, 3, 5, 1, 2, 1, 4])"
   ]
  },
  {
   "cell_type": "code",
   "execution_count": 90,
   "metadata": {},
   "outputs": [],
   "source": [
    "def solution(board,moves):\n",
    "    answer = 0\n",
    "    stack = []\n",
    "    \n",
    "    for i in moves: # 총 이동횟수만큼의 인형이 쌓이기 때문에 이만큼의 반복만 있으면 해결이 가능함!\n",
    "        for j in board: #위 i위치의 보드가 0이 아닐때까지 찾는 반복문\n",
    "            if j[i-1] != 0: # 0이 아닌걸 찾아내면 스택에 쌓고 뽑혀나온 숫자는 0으로 바꿔준다\n",
    "                stack.append(j[i-1])\n",
    "                j[i-1] = 0\n",
    "                if len(stack) > 1: #스택의 길이가 1보다 긴지 확인\n",
    "                    if stack[-1] == stack[-2]: #[-1]번째와 [-2]번째가 같다면 가장 끝에있는[-1]을 두번 빼줌\n",
    "                        stack.pop(-1)\n",
    "                        stack.pop(-1)\n",
    "                        answer += 2\n",
    "                break #0이 아닌것을 뽑아서 이미 쌓은 상태임. 그렇기때문에 break로 다음 moves의 i로 넘어가기 위한 break!\n",
    "    return answer"
   ]
  },
  {
   "cell_type": "code",
   "execution_count": null,
   "metadata": {},
   "outputs": [],
   "source": []
  }
 ],
 "metadata": {
  "kernelspec": {
   "display_name": "Python 3",
   "language": "python",
   "name": "python3"
  },
  "language_info": {
   "codemirror_mode": {
    "name": "ipython",
    "version": 3
   },
   "file_extension": ".py",
   "mimetype": "text/x-python",
   "name": "python",
   "nbconvert_exporter": "python",
   "pygments_lexer": "ipython3",
   "version": "3.8.5"
  }
 },
 "nbformat": 4,
 "nbformat_minor": 4
}
