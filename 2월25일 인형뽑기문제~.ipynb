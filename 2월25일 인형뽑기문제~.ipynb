{
 "cells": [
  {
   "cell_type": "code",
   "execution_count": null,
   "metadata": {},
   "outputs": [],
   "source": [
    "def solution(board, moves):\n",
    "    answer = 0\n",
    "    P = 0\n",
    "    stack = []\n",
    "    for i in range(0,len(moves)):\n",
    "        P = board[moves[i]-1].pop()\n",
    "        if P != 0:\n",
    "            stack.append(P)\n",
    "    j = 0\n",
    "    while True:\n",
    "        if len(stack) <= 1:\n",
    "            break\n",
    "        try:\n",
    "            while len(stack) > 1 and stack[j] == stack[j+1]:\n",
    "                stack.remove(stack[j])\n",
    "                stack.remove(stack[j])\n",
    "                answer += 2\n",
    "                \n",
    "        except:\n",
    "            break\n",
    "        j += 1\n",
    "    return answer"
   ]
  },
  {
   "cell_type": "code",
   "execution_count": null,
   "metadata": {},
   "outputs": [],
   "source": [
    "def solution(board,moves):\n",
    "    answer = 0\n",
    "    P = []\n",
    "    for move in range(len(moves)):\n",
    "        print(move)\n",
    "        if board[moves[move]-1].pop() != 0:\n",
    "            P.append(board[moves[move]-1].pop())\n",
    "    print(P)\n",
    "    return answer\n"
   ]
  },
  {
   "cell_type": "code",
   "execution_count": null,
   "metadata": {},
   "outputs": [],
   "source": [
    "def solution(board,moves):\n",
    "    P = []\n",
    "    pick = 0\n",
    "    P = [i for i in range(len(moves)) if board[moves[i]-1].pop() > 0]\n",
    "#     for i in range(len(moves)):\n",
    "#         pick = board[moves[i]-1].pop()\n",
    "#         if pick > 0:\n",
    "#             P.append(pick)\n",
    "    P = sorted(P,reverse=True)\n",
    "    print(P)\n",
    "    return answer\n"
   ]
  },
  {
   "cell_type": "code",
   "execution_count": null,
   "metadata": {},
   "outputs": [],
   "source": [
    "solution([[0,0],\n",
    "          [0,0,1,0],\n",
    "          [0,2,5,0],\n",
    "          [4,2,4,4],\n",
    "          [3,5,1]],\n",
    "         [4])\n",
    "0,1,1,3,0,3,0,2"
   ]
  },
  {
   "cell_type": "code",
   "execution_count": null,
   "metadata": {},
   "outputs": [],
   "source": [
    "solution([[0,0,0,0,0],\n",
    "          [0,0,1,0,3],\n",
    "          [0,2,5,0,1],\n",
    "          [4,2,4,4,2],\n",
    "          [3,5,1,3,1]],\n",
    "         [1,5,3,5,1,2,1,4])\n"
   ]
  },
  {
   "cell_type": "code",
   "execution_count": 150,
   "metadata": {},
   "outputs": [
    {
     "data": {
      "text/plain": [
       "6"
      ]
     },
     "execution_count": 150,
     "metadata": {},
     "output_type": "execute_result"
    }
   ],
   "source": [
    "solution([[0,0,0,0,0],[0,0,1,0,3],[0,2,5,0,1],[4,2,4,4,2],[3,5,1,3,1]],\n",
    "         [1,5,3,5,1,2,1,4])\n"
   ]
  },
  {
   "cell_type": "code",
   "execution_count": 58,
   "metadata": {},
   "outputs": [
    {
     "data": {
      "text/plain": [
       "(0, 1, 1, 3, 0, 3, 0, 2)"
      ]
     },
     "execution_count": 58,
     "metadata": {},
     "output_type": "execute_result"
    }
   ],
   "source": [
    "0,1,1,3,0,3,0,2\n",
    "\n",
    "1,1,2,1,2,1,2,1"
   ]
  },
  {
   "cell_type": "code",
   "execution_count": 79,
   "metadata": {},
   "outputs": [],
   "source": [
    "r = [1,2,3,4,5]"
   ]
  },
  {
   "cell_type": "code",
   "execution_count": 81,
   "metadata": {},
   "outputs": [
    {
     "data": {
      "text/plain": [
       "4"
      ]
     },
     "execution_count": 81,
     "metadata": {},
     "output_type": "execute_result"
    }
   ],
   "source": [
    "r.pop(-1)"
   ]
  },
  {
   "cell_type": "code",
   "execution_count": 149,
   "metadata": {},
   "outputs": [],
   "source": [
    "def solution(board,moves):\n",
    "    answer = 0\n",
    "    stack = []\n",
    "    pick = 0\n",
    "    for i in range(len(moves)):\n",
    "        for j in range(len(board)):\n",
    "            if board[moves[i]-1][-1:][0] == 0:\n",
    "                pass\n",
    "            elif board[moves[i]-1][-1:][0] > 0: \n",
    "                pick = board[moves[i]-1].pop()\n",
    "                break\n",
    "        if pick not in stack[-1:]:\n",
    "            stack.append(pick)\n",
    "\n",
    "        elif pick in stack[-1:]:\n",
    "            stack.pop()\n",
    "            pick = 0\n",
    "            answer += 2\n",
    "\n",
    "    return answer"
   ]
  },
  {
   "cell_type": "code",
   "execution_count": 151,
   "metadata": {},
   "outputs": [],
   "source": [
    "def solution(board,moves):\n",
    "    answer = 0\n",
    "    stack = []\n",
    "    pick = 0\n",
    "    for i in moves: #int가 담긴 리스트가 for문에들어오면 range를 쓰지말고 그대로\n",
    "        for j in range(len(board)): #board에 뽑힌 숫자중 0이 있으면 무시해야하는 룰을 위한 for문\n",
    "            if board[j][i-1] == 0: #board[j] == 첫번째 칸  board[j][i-1] == 첫번째칸의 moves의 첫번째\n",
    "                pass\n",
    "            else:\n",
    "                stack.append(board[j][i-1])\n",
    "                board[j][i-1] = 0\n",
    "                break\n",
    "        if len(stack)>=2 and stack[len(stack)-1] == stack[len(stack)-2]:\n",
    "            stack.pop()\n",
    "            stack.pop()\n",
    "            answer += 2\n",
    "\n",
    "    return answer"
   ]
  },
  {
   "cell_type": "code",
   "execution_count": 152,
   "metadata": {},
   "outputs": [
    {
     "data": {
      "text/plain": [
       "4"
      ]
     },
     "execution_count": 152,
     "metadata": {},
     "output_type": "execute_result"
    }
   ],
   "source": [
    "solution([[0,0,0,0,0],[0,0,1,0,3],[0,2,5,0,1],[4,2,4,4,2],[3,5,1,3,1]],\n",
    "         [1,5,3,5,1,2,1,4])\n"
   ]
  },
  {
   "cell_type": "code",
   "execution_count": null,
   "metadata": {},
   "outputs": [],
   "source": []
  }
 ],
 "metadata": {
  "kernelspec": {
   "display_name": "Python 3",
   "language": "python",
   "name": "python3"
  },
  "language_info": {
   "codemirror_mode": {
    "name": "ipython",
    "version": 3
   },
   "file_extension": ".py",
   "mimetype": "text/x-python",
   "name": "python",
   "nbconvert_exporter": "python",
   "pygments_lexer": "ipython3",
   "version": "3.8.5"
  }
 },
 "nbformat": 4,
 "nbformat_minor": 4
}
