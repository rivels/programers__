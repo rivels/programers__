{
 "cells": [
  {
   "cell_type": "code",
   "execution_count": 24,
   "metadata": {},
   "outputs": [],
   "source": [
    "def solution(board, moves):\n",
    "    pick = 0\n",
    "    for i in moves:\n",
    "        print(i)\n",
    "        for j in board[i-1][]:\n",
    "            if j[moves] == 0:\n",
    "                pass\n",
    "            else:\n",
    "                pick = j\n",
    "                print(pick)\n",
    "                break\n",
    "    answer = 0\n",
    "    return answer\n"
   ]
  },
  {
   "cell_type": "code",
   "execution_count": 25,
   "metadata": {},
   "outputs": [
    {
     "name": "stdout",
     "output_type": "stream",
     "text": [
      "1\n"
     ]
    },
    {
     "ename": "TypeError",
     "evalue": "'int' object is not iterable",
     "output_type": "error",
     "traceback": [
      "\u001b[0;31m---------------------------------------------------------------------------\u001b[0m",
      "\u001b[0;31mTypeError\u001b[0m                                 Traceback (most recent call last)",
      "\u001b[0;32m<ipython-input-25-c0d8b264f39e>\u001b[0m in \u001b[0;36m<module>\u001b[0;34m\u001b[0m\n\u001b[0;32m----> 1\u001b[0;31m solution([[0,0,0,0,0],\n\u001b[0m\u001b[1;32m      2\u001b[0m           \u001b[0;34m[\u001b[0m\u001b[0;36m0\u001b[0m\u001b[0;34m,\u001b[0m\u001b[0;36m0\u001b[0m\u001b[0;34m,\u001b[0m\u001b[0;36m1\u001b[0m\u001b[0;34m,\u001b[0m\u001b[0;36m0\u001b[0m\u001b[0;34m,\u001b[0m\u001b[0;36m3\u001b[0m\u001b[0;34m]\u001b[0m\u001b[0;34m,\u001b[0m\u001b[0;34m\u001b[0m\u001b[0;34m\u001b[0m\u001b[0m\n\u001b[1;32m      3\u001b[0m           \u001b[0;34m[\u001b[0m\u001b[0;36m0\u001b[0m\u001b[0;34m,\u001b[0m\u001b[0;36m2\u001b[0m\u001b[0;34m,\u001b[0m\u001b[0;36m5\u001b[0m\u001b[0;34m,\u001b[0m\u001b[0;36m0\u001b[0m\u001b[0;34m,\u001b[0m\u001b[0;36m1\u001b[0m\u001b[0;34m]\u001b[0m\u001b[0;34m,\u001b[0m\u001b[0;34m\u001b[0m\u001b[0;34m\u001b[0m\u001b[0m\n\u001b[1;32m      4\u001b[0m           \u001b[0;34m[\u001b[0m\u001b[0;36m4\u001b[0m\u001b[0;34m,\u001b[0m\u001b[0;36m2\u001b[0m\u001b[0;34m,\u001b[0m\u001b[0;36m4\u001b[0m\u001b[0;34m,\u001b[0m\u001b[0;36m4\u001b[0m\u001b[0;34m,\u001b[0m\u001b[0;36m2\u001b[0m\u001b[0;34m]\u001b[0m\u001b[0;34m,\u001b[0m\u001b[0;34m\u001b[0m\u001b[0;34m\u001b[0m\u001b[0m\n\u001b[1;32m      5\u001b[0m           [3,5,1,3,1]],\n",
      "\u001b[0;32m<ipython-input-24-2cbc8e4341a9>\u001b[0m in \u001b[0;36msolution\u001b[0;34m(board, moves)\u001b[0m\n\u001b[1;32m      3\u001b[0m     \u001b[0;32mfor\u001b[0m \u001b[0mi\u001b[0m \u001b[0;32min\u001b[0m \u001b[0mmoves\u001b[0m\u001b[0;34m:\u001b[0m\u001b[0;34m\u001b[0m\u001b[0;34m\u001b[0m\u001b[0m\n\u001b[1;32m      4\u001b[0m         \u001b[0mprint\u001b[0m\u001b[0;34m(\u001b[0m\u001b[0mi\u001b[0m\u001b[0;34m)\u001b[0m\u001b[0;34m\u001b[0m\u001b[0;34m\u001b[0m\u001b[0m\n\u001b[0;32m----> 5\u001b[0;31m         \u001b[0;32mfor\u001b[0m \u001b[0mj\u001b[0m \u001b[0;32min\u001b[0m \u001b[0mi\u001b[0m\u001b[0;34m:\u001b[0m\u001b[0;34m\u001b[0m\u001b[0;34m\u001b[0m\u001b[0m\n\u001b[0m\u001b[1;32m      6\u001b[0m             \u001b[0;32mif\u001b[0m \u001b[0mj\u001b[0m\u001b[0;34m[\u001b[0m\u001b[0mmoves\u001b[0m\u001b[0;34m]\u001b[0m \u001b[0;34m==\u001b[0m \u001b[0;36m0\u001b[0m\u001b[0;34m:\u001b[0m\u001b[0;34m\u001b[0m\u001b[0;34m\u001b[0m\u001b[0m\n\u001b[1;32m      7\u001b[0m                 \u001b[0;32mpass\u001b[0m\u001b[0;34m\u001b[0m\u001b[0;34m\u001b[0m\u001b[0m\n",
      "\u001b[0;31mTypeError\u001b[0m: 'int' object is not iterable"
     ]
    }
   ],
   "source": [
    "solution([[0,0,0,0,0],\n",
    "          [0,0,1,0,3],\n",
    "          [0,2,5,0,1],\n",
    "          [4,2,4,4,2],\n",
    "          [3,5,1,3,1]],\n",
    "         [1,5,3,5,1,2,1,4])"
   ]
  },
  {
   "cell_type": "code",
   "execution_count": 54,
   "metadata": {},
   "outputs": [
    {
     "name": "stdout",
     "output_type": "stream",
     "text": [
      "0 0 0 0 0 \n",
      "0 0 1 0 3 \n",
      "0 2 5 0 1 \n",
      "4 2 4 4 2 \n",
      "3 5 1 3 1 \n"
     ]
    }
   ],
   "source": [
    "c = 0\n",
    "for i in A:\n",
    "    for j in i:\n",
    "        print(j, end=' ')\n",
    "    print('')"
   ]
  },
  {
   "cell_type": "code",
   "execution_count": 97,
   "metadata": {},
   "outputs": [],
   "source": [
    "c = 0\n",
    "stack = []\n",
    "for j in A: #j는 list\n",
    "    for k in j:\n",
    "        if j[B[c]-1] == 0:\n",
    "            pass\n",
    "        elif j[B[c]-1] != 0:\n",
    "            print(j[B[c]-1])\n",
    "            stack.append(j[B[c]-1])\n",
    "            j[B[c]-1] = 0\n",
    "            c += 1\n",
    "            break"
   ]
  },
  {
   "cell_type": "code",
   "execution_count": 98,
   "metadata": {},
   "outputs": [
    {
     "name": "stdout",
     "output_type": "stream",
     "text": [
      "[]\n"
     ]
    }
   ],
   "source": [
    "print(stack)"
   ]
  },
  {
   "cell_type": "code",
   "execution_count": 147,
   "metadata": {},
   "outputs": [],
   "source": [
    "A = [\n",
    "    [0,0,0,0,0],\n",
    "    [0,0,1,0,3],\n",
    "    [0,2,5,0,1],\n",
    "    [4,2,4,4,2],\n",
    "    [3,5,1,3,1]\n",
    "]\n",
    "B = [1,5,3,5,1,2,1,4]"
   ]
  },
  {
   "cell_type": "code",
   "execution_count": 131,
   "metadata": {},
   "outputs": [
    {
     "name": "stdout",
     "output_type": "stream",
     "text": [
      "4 [4, 2, 4, 4, 2] 0\n",
      "2 [0, 2, 4, 4, 2] 1\n",
      "4 [0, 2, 4, 4, 0] 2\n",
      "1 [3, 5, 1, 3, 1] 0\n",
      "3 [3, 5, 1, 3, 0] 1\n",
      "5 [0, 5, 1, 3, 0] 2\n"
     ]
    }
   ],
   "source": [
    "A = [\n",
    "    [0,0,0,0,0],\n",
    "    [0,0,1,0,3],\n",
    "    [0,2,5,0,1],\n",
    "    [4,2,4,4,2],\n",
    "    [3,5,1,3,1]\n",
    "]\n",
    "B = [1,5,3,5,1,2,1,4]\n",
    "stack = []\n",
    "c = 0\n",
    "for i in A:   #i는 리스트\n",
    "    for j in range(0,len(i)): #j는 0~len(i)까지의 int\n",
    "        if i[B[c]-1] == 0:\n",
    "            pass\n",
    "        elif i[B[c]-1] != 0:\n",
    "            stack.append(i[B[c]-1])\n",
    "            print(i[B[c]-1],i,j)\n",
    "            i[B[c]-1] = 0\n",
    "            c += 1\n"
   ]
  },
  {
   "cell_type": "code",
   "execution_count": 132,
   "metadata": {},
   "outputs": [
    {
     "data": {
      "text/plain": [
       "[[0, 0, 0, 0, 0],\n",
       " [0, 0, 1, 0, 3],\n",
       " [0, 2, 5, 0, 1],\n",
       " [0, 2, 0, 4, 0],\n",
       " [0, 0, 1, 3, 0]]"
      ]
     },
     "execution_count": 132,
     "metadata": {},
     "output_type": "execute_result"
    }
   ],
   "source": [
    "A"
   ]
  },
  {
   "cell_type": "code",
   "execution_count": 129,
   "metadata": {},
   "outputs": [
    {
     "data": {
      "text/plain": [
       "[4, 1]"
      ]
     },
     "execution_count": 129,
     "metadata": {},
     "output_type": "execute_result"
    }
   ],
   "source": [
    "stack"
   ]
  },
  {
   "cell_type": "code",
   "execution_count": 208,
   "metadata": {},
   "outputs": [
    {
     "name": "stdout",
     "output_type": "stream",
     "text": [
      "[1] [1]\n",
      "[] []\n"
     ]
    },
    {
     "data": {
      "text/plain": [
       "4"
      ]
     },
     "execution_count": 208,
     "metadata": {},
     "output_type": "execute_result"
    }
   ],
   "source": [
    "board = [\n",
    "    [0,0,0,0,0],\n",
    "    [0,0,1,0,3],\n",
    "    [0,2,5,0,1],\n",
    "    [4,2,4,4,2],\n",
    "    [3,5,1,3,1]\n",
    "]\n",
    "moves = [1,5,3,5,1,2,1,4]\n",
    "def solution(board,moves):\n",
    "    stack = []\n",
    "    pick = 0\n",
    "    answer = 0\n",
    "    for i in moves: \n",
    "        for j in board:\n",
    "            if j[i-1] == 0:\n",
    "                pass\n",
    "            else:\n",
    "                stack.append(j[i-1])\n",
    "                j[i-1] = 0\n",
    "                break\n",
    "\n",
    "    for k in range(1,len(stack)):\n",
    "        if stack[-k:-k+1] == stack[-k-1:-k]:\n",
    "            print(stack[-k:-k+1],stack[-k-1:-k])\n",
    "            del stack[-k:-k+1]\n",
    "            del stack[-k:-k+1]\n",
    "            answer += 2\n",
    "\n",
    "    return answer\n",
    "solution(board,moves)"
   ]
  },
  {
   "cell_type": "code",
   "execution_count": 260,
   "metadata": {},
   "outputs": [
    {
     "name": "stdout",
     "output_type": "stream",
     "text": [
      "[4, 3, 1, 1, 3, 2, 4]\n",
      "[] [2]\n",
      "[2] [3]\n",
      "[3] [1]\n",
      "[1] [1]\n",
      "[1] [1]\n",
      "[4, 3, 3, 2, 4]\n",
      "[4] []\n",
      "[] []\n",
      "[] []\n",
      "[4, 3, 3, 2, 4]\n"
     ]
    }
   ],
   "source": [
    "board = [\n",
    "    [0,0,0,0,0],\n",
    "    [0,0,1,0,3],\n",
    "    [0,2,5,0,1],\n",
    "    [4,2,4,4,2],\n",
    "    [3,5,1,3,1]\n",
    "]\n",
    "moves = [1,5,3,5,1,2,1,4]\n",
    "\n",
    "stack = []\n",
    "pick = 0\n",
    "answer = 0\n",
    "for i in moves: \n",
    "    for j in board:\n",
    "        if j[i-1] == 0:\n",
    "            pass\n",
    "        else:\n",
    "            stack.append(j[i-1])\n",
    "            j[i-1] = 0\n",
    "            break\n",
    "print(stack)\n",
    "\n",
    "for k in range(1,len(stack)):\n",
    "    print(stack[-k:-k+1],stack[-k-1:-k])\n",
    "    if stack[-k:-k+1] == stack[-k-1:-k]:\n",
    "        print(stack[-k:-k+1],stack[-k-1:-k])\n",
    "        del stack[-k:-k+1]\n",
    "        del stack[-k:-k+1]\n",
    "        print(stack)\n",
    "        answer += 2\n",
    "\n",
    "##indexing 오류가 있는듯 하다....\n",
    "\n"
   ]
  },
  {
   "cell_type": "code",
   "execution_count": 239,
   "metadata": {},
   "outputs": [
    {
     "name": "stdout",
     "output_type": "stream",
     "text": [
      "0\n"
     ]
    }
   ],
   "source": [
    "ans = 0\n",
    "for k in range(1,len(stack)):\n",
    "    if stack[-k:-k+1] == stack[-k-1:-k]:\n",
    "        del stack[-k:-k+1]\n",
    "        del stack[-k:-k+1]\n",
    "        ans += 2\n",
    "print(ans)"
   ]
  },
  {
   "cell_type": "code",
   "execution_count": 168,
   "metadata": {},
   "outputs": [
    {
     "data": {
      "text/plain": [
       "[2]"
      ]
     },
     "execution_count": 168,
     "metadata": {},
     "output_type": "execute_result"
    }
   ],
   "source": [
    "stack[-2:-1]"
   ]
  },
  {
   "cell_type": "code",
   "execution_count": 255,
   "metadata": {},
   "outputs": [],
   "source": [
    "o = [0,1,2,3,4,5,6,6,8,9]"
   ]
  },
  {
   "cell_type": "code",
   "execution_count": 252,
   "metadata": {},
   "outputs": [
    {
     "name": "stdout",
     "output_type": "stream",
     "text": [
      "[6] [6]\n",
      "[0, 1, 2, 3, 4, 5, 6, 6, 8, 9]\n"
     ]
    }
   ],
   "source": [
    "print(o[-3:-2],o[-4:-3])\n",
    "del o[-3:-2]\n",
    "print(o)"
   ]
  },
  {
   "cell_type": "code",
   "execution_count": 257,
   "metadata": {},
   "outputs": [
    {
     "name": "stdout",
     "output_type": "stream",
     "text": [
      "[0, 1, 2, 3, 4, 5, 8, 9]\n"
     ]
    }
   ],
   "source": [
    "del o[-3:-2]\n",
    "print(o)"
   ]
  },
  {
   "cell_type": "code",
   "execution_count": null,
   "metadata": {},
   "outputs": [],
   "source": [
    "1 5 3 5 1 2 1 4\n",
    "4 3 1 1 3 2 0 4"
   ]
  }
 ],
 "metadata": {
  "kernelspec": {
   "display_name": "Python 3",
   "language": "python",
   "name": "python3"
  },
  "language_info": {
   "codemirror_mode": {
    "name": "ipython",
    "version": 3
   },
   "file_extension": ".py",
   "mimetype": "text/x-python",
   "name": "python",
   "nbconvert_exporter": "python",
   "pygments_lexer": "ipython3",
   "version": "3.8.5"
  }
 },
 "nbformat": 4,
 "nbformat_minor": 4
}
