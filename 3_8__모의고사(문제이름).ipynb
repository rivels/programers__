{
 "cells": [
  {
   "cell_type": "markdown",
   "metadata": {},
   "source": [
    "수포자 1 \n",
    "1,2,3,4,5,   1,2,3,4,5 ...\n",
    "2,1,2,3,2,4,2,5,   2,1,2,3,2,4,2,5 ...\n",
    "3,3,1,1,2,2,4,4,5,5,    3,3,1,1,2,2,4,4,5,5 ..."
   ]
  },
  {
   "cell_type": "code",
   "execution_count": null,
   "metadata": {},
   "outputs": [],
   "source": [
    "#수포자 1\n",
    "S1 = [1,2,3,4,5]\n",
    "S2 = [2,1,2,3,2,4,2,5]\n",
    "S3 = [3,3,1,1,2,2,4,4,5,5]\n",
    "\n",
    "for i in range(len(answer)):\n",
    "    print(i+1)"
   ]
  },
  {
   "cell_type": "code",
   "execution_count": 37,
   "metadata": {},
   "outputs": [],
   "source": [
    "def solution(answers):\n",
    "    S1_list, S2_list, S3_list, result, score =[],[],[],[],[0,0,0]\n",
    "    result = answers\n",
    "    S1 = [1,2,3,4,5]\n",
    "    S2 = [2,1,2,3,2,4,2,5]\n",
    "    S3 = [3,3,1,1,2,2,4,4,5,5]\n",
    "    \n",
    "    S1_list = S1 * (int(len(result)//len(S1))) + S1[0:int(len(result)%len(S1))]\n",
    "    S2_list = S2 * (int(len(result)//len(S2))) + S2[0:int(len(result)%len(S2))]\n",
    "    S3_list = S3 * (int(len(result)//len(S3))) + S3[0:int(len(result)%len(S3))]\n",
    "    \n",
    "    for i in range(len(result)):\n",
    "        if result[i] == S1_list[i]:\n",
    "            score[0] += 1\n",
    "        if result[i] == S2_list[i]:\n",
    "            score[1] += 1\n",
    "        if result[i] == S3_list[i]:\n",
    "            score[2] += 1\n",
    "    print(score)\n",
    "    if score.count(max(score)) = 2:\n",
    "        score.index(max(score))+1\n",
    "#     elif score.count(max(score)) = 3:\n",
    "        \n",
    "    \n",
    "    return score.index(max(score))+1"
   ]
  },
  {
   "cell_type": "code",
   "execution_count": 38,
   "metadata": {
    "scrolled": true
   },
   "outputs": [
    {
     "name": "stdout",
     "output_type": "stream",
     "text": [
      "[2, 2, 2]\n"
     ]
    },
    {
     "data": {
      "text/plain": [
       "1"
      ]
     },
     "execution_count": 38,
     "metadata": {},
     "output_type": "execute_result"
    }
   ],
   "source": [
    "\n",
    "solution([1,3,2,4,2]\t)"
   ]
  },
  {
   "cell_type": "code",
   "execution_count": 91,
   "metadata": {},
   "outputs": [],
   "source": [
    "'''\n",
    "각 수포자들의 찍기 패턴에 따라 맞은 문제 수를 출력하는 문제\n",
    "\n",
    "가장 먼제 수포자들의 패턴을 파악해서(0) 이들의 예상 작성 리스트를 구현하고 (1)\n",
    "for문으로 돌면서 일치여부를 체크하고(2) final 리스트에 맥스값과 같은 값을 가진 인덱스를 검색해서 추가해주고(3)\n",
    "final을 return\n",
    "'''\n",
    "def solution(answers):\n",
    "    S1_list, S2_list, S3_list, result, score, final = [],[],[],[],{1:0,2:0,3:0}, []\n",
    "    result = answers\n",
    "    \n",
    "    #(0)\n",
    "    S1 = [1,2,3,4,5]\n",
    "    S2 = [2,1,2,3,2,4,2,5]\n",
    "    S3 = [3,3,1,1,2,2,4,4,5,5]\n",
    "    \n",
    "    #(1)\n",
    "    S1_list = S1 * (int(len(result)//len(S1))) + S1[0:int(len(result)%len(S1))]\n",
    "    S2_list = S2 * (int(len(result)//len(S2))) + S2[0:int(len(result)%len(S2))]\n",
    "    S3_list = S3 * (int(len(result)//len(S3))) + S3[0:int(len(result)%len(S3))]\n",
    "    \n",
    "    #(2)\n",
    "    for i in range(len(result)):\n",
    "        if result[i] == S1_list[i]:\n",
    "            score[1] += 1\n",
    "        if result[i] == S2_list[i]:\n",
    "            score[2] += 1\n",
    "        if result[i] == S3_list[i]:\n",
    "            score[3] += 1\n",
    "            \n",
    "    #(3)\n",
    "    for i,j in score.items():\n",
    "        if max(score.values()) == j:\n",
    "            final.append(i)\n",
    "    \n",
    "    \n",
    "    return final"
   ]
  },
  {
   "cell_type": "code",
   "execution_count": 92,
   "metadata": {
    "scrolled": true
   },
   "outputs": [
    {
     "data": {
      "text/plain": [
       "[1, 2, 3]"
      ]
     },
     "execution_count": 92,
     "metadata": {},
     "output_type": "execute_result"
    }
   ],
   "source": [
    "solution([1,3,2,4,2]\t)"
   ]
  },
  {
   "cell_type": "code",
   "execution_count": 85,
   "metadata": {},
   "outputs": [],
   "source": [
    "K = {1:1,2:4,3:3}"
   ]
  },
  {
   "cell_type": "code",
   "execution_count": 87,
   "metadata": {},
   "outputs": [],
   "source": [
    "Max = max(K.values())"
   ]
  },
  {
   "cell_type": "code",
   "execution_count": 90,
   "metadata": {},
   "outputs": [
    {
     "name": "stdout",
     "output_type": "stream",
     "text": [
      "1 1\n",
      "2 4\n",
      "3 3\n"
     ]
    }
   ],
   "source": [
    "for i,j in K.items():\n",
    "    if max(K.values()) == j:\n",
    "        final.append(i)\n",
    "    "
   ]
  },
  {
   "cell_type": "code",
   "execution_count": null,
   "metadata": {},
   "outputs": [],
   "source": []
  }
 ],
 "metadata": {
  "kernelspec": {
   "display_name": "Python 3",
   "language": "python",
   "name": "python3"
  },
  "language_info": {
   "codemirror_mode": {
    "name": "ipython",
    "version": 3
   },
   "file_extension": ".py",
   "mimetype": "text/x-python",
   "name": "python",
   "nbconvert_exporter": "python",
   "pygments_lexer": "ipython3",
   "version": "3.8.5"
  }
 },
 "nbformat": 4,
 "nbformat_minor": 4
}
